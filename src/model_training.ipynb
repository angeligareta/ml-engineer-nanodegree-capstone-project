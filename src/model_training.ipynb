{
 "cells": [
  {
   "cell_type": "markdown",
   "id": "49759840-222e-4942-bdc8-783c394661ab",
   "metadata": {},
   "source": [
    "# Model training\n",
    "This notebook contains the model training and hyperparameter tuning of the LightGBM model using Sagemaker"
   ]
  },
  {
   "cell_type": "code",
   "execution_count": 54,
   "id": "1ceca896-3355-40e5-9dbd-eb3681a4a5e1",
   "metadata": {
    "tags": []
   },
   "outputs": [],
   "source": [
    "import sagemaker\n",
    "from sagemaker.estimator import Estimator\n",
    "from sagemaker.parameter import ContinuousParameter, CategoricalParameter, IntegerParameter\n",
    "from sagemaker.tuner import HyperparameterTuner\n",
    "from sagemaker import image_uris, model_uris, script_uris\n",
    "import time\n",
    "import boto3\n"
   ]
  },
  {
   "cell_type": "code",
   "execution_count": 30,
   "id": "dce8ff05-2ddc-4e7f-bb94-9c30c9c2d23d",
   "metadata": {},
   "outputs": [],
   "source": [
    "role = sagemaker.get_execution_role() \n",
    "session = sagemaker.Session() \n",
    "region = session.boto_region_name\n",
    "bucket = session.default_bucket()\n",
    "\n",
    "column_names = ['offer_completed_after_view', 'age', 'income', 'membership_days', 'gender_F', 'gender_M', 'gender_O', 'reward', 'difficulty', 'duration', 'email', 'mobile', 'social', 'web', 'offer_bogo', 'offer_discount', 'offer_informational']\n",
    "train_location, val_location, test_location = ('s3://sagemaker-us-east-1-256735873794/data/train.csv', 's3://sagemaker-us-east-1-256735873794/data/validation.csv', 's3://sagemaker-us-east-1-256735873794/data/test.csv')\n",
    "train_model_id, train_model_version, train_scope = \"lightgbm-classification-model\", \"*\", \"training\"\n",
    "training_instance_type = \"ml.m5.xlarge\"\n",
    "\n",
    "prefix = 'sagemaker-project'\n",
    "s3_output_location = f's3://{bucket}/{prefix}/output'"
   ]
  },
  {
   "cell_type": "code",
   "execution_count": 31,
   "id": "5e42c916-255c-4a6f-9df1-0fd5e06cdcd7",
   "metadata": {
    "tags": []
   },
   "outputs": [],
   "source": [
    "# Retrieve the docker image\n",
    "train_image_uri = image_uris.retrieve(\n",
    "    region=None,\n",
    "    framework=None,\n",
    "    model_id=train_model_id,\n",
    "    model_version=train_model_version,\n",
    "    image_scope=train_scope,\n",
    "    instance_type=training_instance_type,\n",
    ")\n",
    "# Retrieve the training script\n",
    "train_source_uri = script_uris.retrieve(\n",
    "    model_id=train_model_id, model_version=train_model_version, script_scope=train_scope\n",
    ")\n",
    "# Retrieve the pre-trained model tarball to further fine-tune\n",
    "train_model_uri = model_uris.retrieve(\n",
    "    model_id=train_model_id, model_version=train_model_version, model_scope=train_scope\n",
    ")"
   ]
  },
  {
   "cell_type": "code",
   "execution_count": 48,
   "id": "b32d7b1b-b10b-4ec0-a21d-a7e5e8f6b204",
   "metadata": {
    "tags": []
   },
   "outputs": [
    {
     "data": {
      "text/plain": [
       "{'num_boost_round': '5000',\n",
       " 'early_stopping_rounds': '30',\n",
       " 'metric': 'average_precision',\n",
       " 'learning_rate': '0.009',\n",
       " 'num_leaves': '67',\n",
       " 'feature_fraction': '0.74',\n",
       " 'bagging_fraction': '0.53',\n",
       " 'bagging_freq': '5',\n",
       " 'max_depth': '11',\n",
       " 'min_data_in_leaf': '26',\n",
       " 'max_delta_step': '0.0',\n",
       " 'lambda_l1': '0.0',\n",
       " 'lambda_l2': '0.0',\n",
       " 'boosting': 'gbdt',\n",
       " 'min_gain_to_split': '0.0',\n",
       " 'scale_pos_weight': '1.0',\n",
       " 'tree_learner': 'serial',\n",
       " 'feature_fraction_bynode': '1.0',\n",
       " 'is_unbalance': 'False',\n",
       " 'max_bin': '255',\n",
       " 'num_threads': '0',\n",
       " 'verbosity': '1',\n",
       " 'use_dask': 'False'}"
      ]
     },
     "execution_count": 48,
     "metadata": {},
     "output_type": "execute_result"
    }
   ],
   "source": [
    "# Retrieve the default hyper-parameters for fine-tuning the model\n",
    "hyperparameters = sagemaker.hyperparameters.retrieve_default(\n",
    "    model_id=train_model_id, model_version=train_model_version\n",
    ")\n",
    "hyperparameters[\"metric\"] = \"average_precision\"\n",
    "hyperparameters"
   ]
  },
  {
   "cell_type": "code",
   "execution_count": 69,
   "id": "bffe25b4-001a-4bb5-b095-3e16680e8489",
   "metadata": {},
   "outputs": [],
   "source": [
    "hyperparameter_ranges_lgb = {\n",
    "    'learning_rate': ContinuousParameter(0.01, 0.2), # Learning rate (Step size shrinkage for updates)\n",
    "    \"num_leaves\": IntegerParameter(2, 50), # Maximum number of leaves in a tree\n",
    "    'feature_fraction': ContinuousParameter(0.5, 1), # Fraction of features used (column sample by tree)\n",
    "    'bagging_fraction': ContinuousParameter(0.5, 1), # Fraction of data used for bagging (subsample)\n",
    "    \"bagging_freq\": IntegerParameter(1, 10),\n",
    "    \"max_depth\": IntegerParameter(1, 10), # Maximum tree depth, -1 for no constraints\n",
    "    \"min_data_in_leaf\": IntegerParameter(1, 30), # Minimum number of data points in a leaf\n",
    "    'extra_trees': CategoricalParameter([True, False]) # If True when evaluating node splits LightGBM will check only one randomly-chosen threshold for each feature\n",
    "}"
   ]
  },
  {
   "cell_type": "code",
   "execution_count": 70,
   "id": "0a2bef10-d9ee-4e4a-8c31-d6b58285e4da",
   "metadata": {
    "tags": []
   },
   "outputs": [],
   "source": [
    "# Create SageMaker Estimator instance\n",
    "tabular_estimator = Estimator(\n",
    "    role=role,\n",
    "    image_uri=train_image_uri,\n",
    "    source_dir=train_source_uri,\n",
    "    model_uri=train_model_uri,\n",
    "    entry_point=\"transfer_learning.py\", # Default one available in image uri\n",
    "    instance_count=1,\n",
    "    volume_size=30,\n",
    "    instance_type=training_instance_type,\n",
    "    max_run=360000,\n",
    "    hyperparameters=hyperparameters,\n",
    "    output_path=s3_output_location,\n",
    ")"
   ]
  },
  {
   "cell_type": "code",
   "execution_count": null,
   "id": "9b644233-3f5c-4f80-8e6f-2958686b2c08",
   "metadata": {
    "tags": []
   },
   "outputs": [
    {
     "name": "stderr",
     "output_type": "stream",
     "text": [
      "No finished training job found associated with this estimator. Please make sure this estimator is only used for building workflow config\n"
     ]
    },
    {
     "name": "stdout",
     "output_type": "stream",
     "text": [
      "......................................................................................................"
     ]
    }
   ],
   "source": [
    "# Set up the hyperparameter tuner\n",
    "tuner = HyperparameterTuner(tabular_estimator,\n",
    "        objective_metric_name='average_precision', # See https://docs.aws.amazon.com/sagemaker/latest/dg/lightgbm-tuning.html\n",
    "        hyperparameter_ranges=hyperparameter_ranges_lgb,\n",
    "        metric_definitions=[{\"Name\": \"average_precision\", \"Regex\": \"average_precision: ([0-9\\\\.]+)\"}],\n",
    "        strategy='Bayesian', # Bayesian optimization\n",
    "        objective_type=\"Maximize\",\n",
    "        max_jobs=20,\n",
    "        max_parallel_jobs=3\n",
    ")\n",
    "\n",
    "# Start the hyperparameter tuning job\n",
    "training_job_name = prefix + str(int(time.time()))\n",
    "tuner.fit({'train': train_location, 'validation': val_location}, logs=True, job_name=training_job_name)\n",
    "tuner.wait()"
   ]
  },
  {
   "cell_type": "code",
   "execution_count": 76,
   "id": "2c9ee409-88ff-4f6f-9075-f144be7b70ac",
   "metadata": {
    "tags": []
   },
   "outputs": [
    {
     "name": "stdout",
     "output_type": "stream",
     "text": [
      "\n",
      "2023-06-10 22:35:14 Starting - Found matching resource for reuse\n",
      "2023-06-10 22:35:14 Downloading - Downloading input data\n",
      "2023-06-10 22:35:14 Training - Training image download completed. Training in progress.\n",
      "2023-06-10 22:35:14 Uploading - Uploading generated training model\n",
      "2023-06-10 22:35:14 Completed - Resource retained for reuse\n",
      "\n",
      "2023-06-10 22:35:14 Starting - Found matching resource for reuse\n",
      "2023-06-10 22:35:14 Downloading - Downloading input data\n",
      "2023-06-10 22:35:14 Training - Training image download completed. Training in progress.\n",
      "2023-06-10 22:35:14 Uploading - Uploading generated training model\n",
      "2023-06-10 22:35:14 Completed - Resource retained for reuse\n"
     ]
    },
    {
     "data": {
      "text/plain": [
       "(<sagemaker.estimator.Estimator at 0x7f060bdd5590>,\n",
       " {'_tuning_objective_metric': 'average_precision',\n",
       "  'bagging_fraction': '1.0',\n",
       "  'bagging_freq': '7',\n",
       "  'boosting': '\"gbdt\"',\n",
       "  'early_stopping_rounds': '\"30\"',\n",
       "  'extra_trees': 'True',\n",
       "  'feature_fraction': '0.9968771503188556',\n",
       "  'feature_fraction_bynode': '\"1.0\"',\n",
       "  'is_unbalance': '\"False\"',\n",
       "  'lambda_l1': '\"0.0\"',\n",
       "  'lambda_l2': '\"0.0\"',\n",
       "  'learning_rate': '0.10899245357673483',\n",
       "  'max_bin': '\"255\"',\n",
       "  'max_delta_step': '\"0.0\"',\n",
       "  'max_depth': '7',\n",
       "  'metric': '\"average_precision\"',\n",
       "  'min_data_in_leaf': '2',\n",
       "  'min_gain_to_split': '\"0.0\"',\n",
       "  'num_boost_round': '\"5000\"',\n",
       "  'num_leaves': '50',\n",
       "  'num_threads': '\"0\"',\n",
       "  'sagemaker_container_log_level': '20',\n",
       "  'sagemaker_job_name': '\"sagemaker-project1686435990\"',\n",
       "  'sagemaker_program': '\"transfer_learning.py\"',\n",
       "  'sagemaker_region': '\"us-east-1\"',\n",
       "  'sagemaker_submit_directory': '\"s3://jumpstart-cache-prod-us-east-1/source-directory-tarballs/lightgbm/transfer_learning/classification/v2.1.1/sourcedir.tar.gz\"',\n",
       "  'scale_pos_weight': '\"1.0\"',\n",
       "  'tree_learner': '\"serial\"',\n",
       "  'use_dask': '\"False\"',\n",
       "  'verbosity': '\"1\"'})"
      ]
     },
     "execution_count": 76,
     "metadata": {},
     "output_type": "execute_result"
    }
   ],
   "source": [
    "tuner.best_estimator(), tuner.best_estimator().hyperparameters()"
   ]
  },
  {
   "cell_type": "code",
   "execution_count": 79,
   "id": "1d114b40-76a5-475f-85c9-db3ac7878532",
   "metadata": {
    "tags": []
   },
   "outputs": [
    {
     "name": "stdout",
     "output_type": "stream",
     "text": [
      "Best training job: sagemaker-project1686435990-020-6351a9f5\n",
      "\n",
      "Best hyperparameters:\n",
      " {'_tuning_objective_metric': 'average_precision', 'bagging_fraction': '1.0', 'bagging_freq': '7', 'boosting': '\"gbdt\"', 'early_stopping_rounds': '\"30\"', 'extra_trees': 'True', 'feature_fraction': '0.9968771503188556', 'feature_fraction_bynode': '\"1.0\"', 'is_unbalance': '\"False\"', 'lambda_l1': '\"0.0\"', 'lambda_l2': '\"0.0\"', 'learning_rate': '0.10899245357673483', 'max_bin': '\"255\"', 'max_delta_step': '\"0.0\"', 'max_depth': '7', 'metric': '\"average_precision\"', 'min_data_in_leaf': '2', 'min_gain_to_split': '\"0.0\"', 'num_boost_round': '\"5000\"', 'num_leaves': '50', 'num_threads': '\"0\"', 'sagemaker_container_log_level': '20', 'sagemaker_job_name': '\"sagemaker-project1686435990\"', 'sagemaker_program': '\"transfer_learning.py\"', 'sagemaker_region': '\"us-east-1\"', 'sagemaker_submit_directory': '\"s3://jumpstart-cache-prod-us-east-1/source-directory-tarballs/lightgbm/transfer_learning/classification/v2.1.1/sourcedir.tar.gz\"', 'scale_pos_weight': '\"1.0\"', 'tree_learner': '\"serial\"', 'use_dask': '\"False\"', 'verbosity': '\"1\"'}\n",
      "\n",
      "Best objective value: 0.6666889786720276\n",
      "\n",
      "All training jobs with expanded hyperparameters, metric value, time, and ranking:\n",
      "\n"
     ]
    },
    {
     "data": {
      "text/html": [
       "<div>\n",
       "<style scoped>\n",
       "    .dataframe tbody tr th:only-of-type {\n",
       "        vertical-align: middle;\n",
       "    }\n",
       "\n",
       "    .dataframe tbody tr th {\n",
       "        vertical-align: top;\n",
       "    }\n",
       "\n",
       "    .dataframe thead th {\n",
       "        text-align: right;\n",
       "    }\n",
       "</style>\n",
       "<table border=\"1\" class=\"dataframe\">\n",
       "  <thead>\n",
       "    <tr style=\"text-align: right;\">\n",
       "      <th></th>\n",
       "      <th>TrainingJobName</th>\n",
       "      <th>Rank</th>\n",
       "      <th>average_precision</th>\n",
       "      <th>TrainingTime</th>\n",
       "      <th>learning_rate</th>\n",
       "      <th>num_leaves</th>\n",
       "      <th>feature_fraction</th>\n",
       "      <th>bagging_fraction</th>\n",
       "      <th>bagging_freq</th>\n",
       "      <th>max_depth</th>\n",
       "      <th>min_data_in_leaf</th>\n",
       "      <th>extra_trees</th>\n",
       "    </tr>\n",
       "  </thead>\n",
       "  <tbody>\n",
       "    <tr>\n",
       "      <th>0</th>\n",
       "      <td>sagemaker-project1686435990-020-6351a9f5</td>\n",
       "      <td>1</td>\n",
       "      <td>0.666689</td>\n",
       "      <td>0 days 00:00:31.483000</td>\n",
       "      <td>0.10899245357673483</td>\n",
       "      <td>50</td>\n",
       "      <td>0.9968771503188556</td>\n",
       "      <td>1.0</td>\n",
       "      <td>7</td>\n",
       "      <td>7</td>\n",
       "      <td>2</td>\n",
       "      <td>True</td>\n",
       "    </tr>\n",
       "    <tr>\n",
       "      <th>5</th>\n",
       "      <td>sagemaker-project1686435990-015-473bb1eb</td>\n",
       "      <td>2</td>\n",
       "      <td>0.659316</td>\n",
       "      <td>0 days 00:01:21.710000</td>\n",
       "      <td>0.12379288341670278</td>\n",
       "      <td>50</td>\n",
       "      <td>0.5</td>\n",
       "      <td>0.507864004191913</td>\n",
       "      <td>7</td>\n",
       "      <td>9</td>\n",
       "      <td>27</td>\n",
       "      <td>True</td>\n",
       "    </tr>\n",
       "    <tr>\n",
       "      <th>7</th>\n",
       "      <td>sagemaker-project1686435990-013-64d362ca</td>\n",
       "      <td>3</td>\n",
       "      <td>0.657683</td>\n",
       "      <td>0 days 00:00:31.400000</td>\n",
       "      <td>0.039423896252818856</td>\n",
       "      <td>48</td>\n",
       "      <td>0.9979159734185477</td>\n",
       "      <td>0.9112738109037757</td>\n",
       "      <td>7</td>\n",
       "      <td>6</td>\n",
       "      <td>7</td>\n",
       "      <td>True</td>\n",
       "    </tr>\n",
       "    <tr>\n",
       "      <th>6</th>\n",
       "      <td>sagemaker-project1686435990-014-fc6a3618</td>\n",
       "      <td>4</td>\n",
       "      <td>0.657265</td>\n",
       "      <td>0 days 00:01:05.689000</td>\n",
       "      <td>0.033266923945859166</td>\n",
       "      <td>37</td>\n",
       "      <td>0.9978344046226648</td>\n",
       "      <td>0.9845435762796855</td>\n",
       "      <td>7</td>\n",
       "      <td>6</td>\n",
       "      <td>26</td>\n",
       "      <td>True</td>\n",
       "    </tr>\n",
       "    <tr>\n",
       "      <th>8</th>\n",
       "      <td>sagemaker-project1686435990-012-80bfeff5</td>\n",
       "      <td>5</td>\n",
       "      <td>0.651613</td>\n",
       "      <td>0 days 00:00:31.570000</td>\n",
       "      <td>0.01953159248774715</td>\n",
       "      <td>24</td>\n",
       "      <td>0.9966036393692054</td>\n",
       "      <td>0.845816976727964</td>\n",
       "      <td>7</td>\n",
       "      <td>9</td>\n",
       "      <td>26</td>\n",
       "      <td>True</td>\n",
       "    </tr>\n",
       "    <tr>\n",
       "      <th>3</th>\n",
       "      <td>sagemaker-project1686435990-017-f940ce51</td>\n",
       "      <td>6</td>\n",
       "      <td>0.649897</td>\n",
       "      <td>0 days 00:00:31.526000</td>\n",
       "      <td>0.08545560084051033</td>\n",
       "      <td>47</td>\n",
       "      <td>0.9599931343754241</td>\n",
       "      <td>0.8422439782693089</td>\n",
       "      <td>6</td>\n",
       "      <td>4</td>\n",
       "      <td>6</td>\n",
       "      <td>True</td>\n",
       "    </tr>\n",
       "    <tr>\n",
       "      <th>2</th>\n",
       "      <td>sagemaker-project1686435990-018-d34cbdbe</td>\n",
       "      <td>7</td>\n",
       "      <td>0.640654</td>\n",
       "      <td>0 days 00:00:31.496000</td>\n",
       "      <td>0.08631079088016406</td>\n",
       "      <td>18</td>\n",
       "      <td>0.8882788620221755</td>\n",
       "      <td>0.5322933996959476</td>\n",
       "      <td>7</td>\n",
       "      <td>7</td>\n",
       "      <td>30</td>\n",
       "      <td>True</td>\n",
       "    </tr>\n",
       "    <tr>\n",
       "      <th>9</th>\n",
       "      <td>sagemaker-project1686435990-011-d9d3d2b1</td>\n",
       "      <td>8</td>\n",
       "      <td>0.638438</td>\n",
       "      <td>0 days 00:00:31.409000</td>\n",
       "      <td>0.012253907232403504</td>\n",
       "      <td>22</td>\n",
       "      <td>0.8073935479228607</td>\n",
       "      <td>0.5</td>\n",
       "      <td>2</td>\n",
       "      <td>5</td>\n",
       "      <td>4</td>\n",
       "      <td>True</td>\n",
       "    </tr>\n",
       "    <tr>\n",
       "      <th>1</th>\n",
       "      <td>sagemaker-project1686435990-019-103cfcca</td>\n",
       "      <td>9</td>\n",
       "      <td>0.631317</td>\n",
       "      <td>0 days 00:00:31.612000</td>\n",
       "      <td>0.05020881650519103</td>\n",
       "      <td>11</td>\n",
       "      <td>0.9728568813701571</td>\n",
       "      <td>0.5042905398962911</td>\n",
       "      <td>7</td>\n",
       "      <td>7</td>\n",
       "      <td>15</td>\n",
       "      <td>True</td>\n",
       "    </tr>\n",
       "    <tr>\n",
       "      <th>4</th>\n",
       "      <td>sagemaker-project1686435990-016-14f6f8cf</td>\n",
       "      <td>10</td>\n",
       "      <td>0.609758</td>\n",
       "      <td>0 days 00:00:31.507000</td>\n",
       "      <td>0.051575290218399655</td>\n",
       "      <td>50</td>\n",
       "      <td>0.9273525495365575</td>\n",
       "      <td>0.9553497745604602</td>\n",
       "      <td>6</td>\n",
       "      <td>1</td>\n",
       "      <td>28</td>\n",
       "      <td>True</td>\n",
       "    </tr>\n",
       "  </tbody>\n",
       "</table>\n",
       "</div>"
      ],
      "text/plain": [
       "                            TrainingJobName  Rank  average_precision  \\\n",
       "0  sagemaker-project1686435990-020-6351a9f5     1           0.666689   \n",
       "5  sagemaker-project1686435990-015-473bb1eb     2           0.659316   \n",
       "7  sagemaker-project1686435990-013-64d362ca     3           0.657683   \n",
       "6  sagemaker-project1686435990-014-fc6a3618     4           0.657265   \n",
       "8  sagemaker-project1686435990-012-80bfeff5     5           0.651613   \n",
       "3  sagemaker-project1686435990-017-f940ce51     6           0.649897   \n",
       "2  sagemaker-project1686435990-018-d34cbdbe     7           0.640654   \n",
       "9  sagemaker-project1686435990-011-d9d3d2b1     8           0.638438   \n",
       "1  sagemaker-project1686435990-019-103cfcca     9           0.631317   \n",
       "4  sagemaker-project1686435990-016-14f6f8cf    10           0.609758   \n",
       "\n",
       "            TrainingTime         learning_rate num_leaves    feature_fraction  \\\n",
       "0 0 days 00:00:31.483000   0.10899245357673483         50  0.9968771503188556   \n",
       "5 0 days 00:01:21.710000   0.12379288341670278         50                 0.5   \n",
       "7 0 days 00:00:31.400000  0.039423896252818856         48  0.9979159734185477   \n",
       "6 0 days 00:01:05.689000  0.033266923945859166         37  0.9978344046226648   \n",
       "8 0 days 00:00:31.570000   0.01953159248774715         24  0.9966036393692054   \n",
       "3 0 days 00:00:31.526000   0.08545560084051033         47  0.9599931343754241   \n",
       "2 0 days 00:00:31.496000   0.08631079088016406         18  0.8882788620221755   \n",
       "9 0 days 00:00:31.409000  0.012253907232403504         22  0.8073935479228607   \n",
       "1 0 days 00:00:31.612000   0.05020881650519103         11  0.9728568813701571   \n",
       "4 0 days 00:00:31.507000  0.051575290218399655         50  0.9273525495365575   \n",
       "\n",
       "     bagging_fraction bagging_freq max_depth min_data_in_leaf extra_trees  \n",
       "0                 1.0            7         7                2        True  \n",
       "5   0.507864004191913            7         9               27        True  \n",
       "7  0.9112738109037757            7         6                7        True  \n",
       "6  0.9845435762796855            7         6               26        True  \n",
       "8   0.845816976727964            7         9               26        True  \n",
       "3  0.8422439782693089            6         4                6        True  \n",
       "2  0.5322933996959476            7         7               30        True  \n",
       "9                 0.5            2         5                4        True  \n",
       "1  0.5042905398962911            7         7               15        True  \n",
       "4  0.9553497745604602            6         1               28        True  "
      ]
     },
     "execution_count": 79,
     "metadata": {},
     "output_type": "execute_result"
    }
   ],
   "source": [
    "import boto3\n",
    "import pandas as pd\n",
    "\n",
    "# Function to fetch tuner results as a DataFrame\n",
    "def tuner_results_to_dataframe(tuner):\n",
    "    sagemaker_client = boto3.client('sagemaker', region_name=region)\n",
    "    all_jobs_response = sagemaker_client.list_training_jobs_for_hyper_parameter_tuning_job(\n",
    "        HyperParameterTuningJobName=tuner.latest_tuning_job.name\n",
    "    )\n",
    "    \n",
    "    all_jobs = all_jobs_response['TrainingJobSummaries']\n",
    "    \n",
    "    job_details = []\n",
    "    for job in all_jobs:\n",
    "        job_details_response = sagemaker_client.describe_training_job(TrainingJobName=job['TrainingJobName'])\n",
    "        job_details.append(job_details_response)\n",
    "    \n",
    "    df = pd.DataFrame(job_details)\n",
    "    return df\n",
    "\n",
    "# Fetch tuner results\n",
    "tuner_df = tuner_results_to_dataframe(tuner)\n",
    "\n",
    "# Get best training job details\n",
    "best_job_name = tuner.best_training_job()\n",
    "best_job = tuner_df.loc[tuner_df['TrainingJobName'] == best_job_name]\n",
    "\n",
    "# Get the final metric value\n",
    "best_job_objective_value = best_job.iloc[0]['FinalMetricDataList'][0]['Value']\n",
    "best_job_hyperparameters = best_job.iloc[0]['HyperParameters']\n",
    "\n",
    "print(\"Best training job:\", best_job_name)\n",
    "print(\"\\nBest hyperparameters:\\n\", best_job_hyperparameters)\n",
    "print(\"\\nBest objective value:\", best_job_objective_value)\n",
    "\n",
    "# Expand hyperparameters into columns and keep relevant columns\n",
    "hyperparameters_expanded = tuner_df['HyperParameters'].apply(pd.Series)\n",
    "tuner_df_final = pd.concat([tuner_df['TrainingJobName'], hyperparameters_expanded, tuner_df['FinalMetricDataList']], axis=1)\n",
    "\n",
    "# Extract the objective value from FinalMetricDataList\n",
    "tuner_df_final['ObjectiveValue'] = tuner_df_final['FinalMetricDataList'].apply(lambda x: x[0]['Value'])\n",
    "\n",
    "# Calculate time of training and rank by the objective value\n",
    "tuner_df_final['TrainingTime'] = tuner_df['TrainingEndTime'] - tuner_df['TrainingStartTime']\n",
    "tuner_df_final = tuner_df_final.sort_values(\"ObjectiveValue\", ascending=False)\n",
    "tuner_df_final.insert(len(tuner_df_final.columns), 'Rank', range(1, 1+len(tuner_df_final)))\n",
    "\n",
    "print(\"\\nAll training jobs with expanded hyperparameters, metric value, time, and ranking:\\n\")\n",
    "relevant_columns = ['TrainingJobName', 'Rank', 'ObjectiveValue', 'TrainingTime'] + list(hyperparameter_ranges_lgb.keys())\n",
    "\n",
    "tuner_df_final[relevant_columns].rename(columns={'ObjectiveValue': 'average_precision'})"
   ]
  },
  {
   "cell_type": "markdown",
   "id": "b06a275b-1ab8-4bf0-b4c3-6bda8e057395",
   "metadata": {
    "tags": []
   },
   "source": [
    "Note: The depth and number of leaves of the first configuration looks reasonable in comparison with the others, and the average precision is significantly higher."
   ]
  },
  {
   "cell_type": "code",
   "execution_count": 83,
   "id": "75ec5876-88ac-4ef7-8339-b252c4f18e22",
   "metadata": {
    "tags": []
   },
   "outputs": [
    {
     "data": {
      "text/plain": [
       "{'KmsKeyId': '',\n",
       " 'S3OutputPath': 's3://sagemaker-us-east-1-256735873794/sagemaker-project/output'}"
      ]
     },
     "execution_count": 83,
     "metadata": {},
     "output_type": "execute_result"
    }
   ],
   "source": [
    "best_job['OutputDataConfig'].iloc[0]"
   ]
  },
  {
   "cell_type": "code",
   "execution_count": null,
   "id": "7c63a973-d24e-4120-9276-1ea6328276ae",
   "metadata": {},
   "outputs": [],
   "source": [
    "# Best job model is found here\n",
    "# s3://sagemaker-us-east-1-256735873794/sagemaker-project/output/sagemaker-project1686435990-020-6351a9f5/output/model.tar.gz"
   ]
  },
  {
   "cell_type": "code",
   "execution_count": null,
   "id": "e5498643-8e74-4946-a4f6-0593822e9258",
   "metadata": {},
   "outputs": [],
   "source": [
    "# # Deploy the best model from the hyperparameter tuning job\n",
    "# best_model = tuner.deploy(initial_instance_count=1, instance_type='ml.m4.xlarge')"
   ]
  }
 ],
 "metadata": {
  "availableInstances": [
   {
    "_defaultOrder": 0,
    "_isFastLaunch": true,
    "category": "General purpose",
    "gpuNum": 0,
    "hideHardwareSpecs": false,
    "memoryGiB": 4,
    "name": "ml.t3.medium",
    "vcpuNum": 2
   },
   {
    "_defaultOrder": 1,
    "_isFastLaunch": false,
    "category": "General purpose",
    "gpuNum": 0,
    "hideHardwareSpecs": false,
    "memoryGiB": 8,
    "name": "ml.t3.large",
    "vcpuNum": 2
   },
   {
    "_defaultOrder": 2,
    "_isFastLaunch": false,
    "category": "General purpose",
    "gpuNum": 0,
    "hideHardwareSpecs": false,
    "memoryGiB": 16,
    "name": "ml.t3.xlarge",
    "vcpuNum": 4
   },
   {
    "_defaultOrder": 3,
    "_isFastLaunch": false,
    "category": "General purpose",
    "gpuNum": 0,
    "hideHardwareSpecs": false,
    "memoryGiB": 32,
    "name": "ml.t3.2xlarge",
    "vcpuNum": 8
   },
   {
    "_defaultOrder": 4,
    "_isFastLaunch": true,
    "category": "General purpose",
    "gpuNum": 0,
    "hideHardwareSpecs": false,
    "memoryGiB": 8,
    "name": "ml.m5.large",
    "vcpuNum": 2
   },
   {
    "_defaultOrder": 5,
    "_isFastLaunch": false,
    "category": "General purpose",
    "gpuNum": 0,
    "hideHardwareSpecs": false,
    "memoryGiB": 16,
    "name": "ml.m5.xlarge",
    "vcpuNum": 4
   },
   {
    "_defaultOrder": 6,
    "_isFastLaunch": false,
    "category": "General purpose",
    "gpuNum": 0,
    "hideHardwareSpecs": false,
    "memoryGiB": 32,
    "name": "ml.m5.2xlarge",
    "vcpuNum": 8
   },
   {
    "_defaultOrder": 7,
    "_isFastLaunch": false,
    "category": "General purpose",
    "gpuNum": 0,
    "hideHardwareSpecs": false,
    "memoryGiB": 64,
    "name": "ml.m5.4xlarge",
    "vcpuNum": 16
   },
   {
    "_defaultOrder": 8,
    "_isFastLaunch": false,
    "category": "General purpose",
    "gpuNum": 0,
    "hideHardwareSpecs": false,
    "memoryGiB": 128,
    "name": "ml.m5.8xlarge",
    "vcpuNum": 32
   },
   {
    "_defaultOrder": 9,
    "_isFastLaunch": false,
    "category": "General purpose",
    "gpuNum": 0,
    "hideHardwareSpecs": false,
    "memoryGiB": 192,
    "name": "ml.m5.12xlarge",
    "vcpuNum": 48
   },
   {
    "_defaultOrder": 10,
    "_isFastLaunch": false,
    "category": "General purpose",
    "gpuNum": 0,
    "hideHardwareSpecs": false,
    "memoryGiB": 256,
    "name": "ml.m5.16xlarge",
    "vcpuNum": 64
   },
   {
    "_defaultOrder": 11,
    "_isFastLaunch": false,
    "category": "General purpose",
    "gpuNum": 0,
    "hideHardwareSpecs": false,
    "memoryGiB": 384,
    "name": "ml.m5.24xlarge",
    "vcpuNum": 96
   },
   {
    "_defaultOrder": 12,
    "_isFastLaunch": false,
    "category": "General purpose",
    "gpuNum": 0,
    "hideHardwareSpecs": false,
    "memoryGiB": 8,
    "name": "ml.m5d.large",
    "vcpuNum": 2
   },
   {
    "_defaultOrder": 13,
    "_isFastLaunch": false,
    "category": "General purpose",
    "gpuNum": 0,
    "hideHardwareSpecs": false,
    "memoryGiB": 16,
    "name": "ml.m5d.xlarge",
    "vcpuNum": 4
   },
   {
    "_defaultOrder": 14,
    "_isFastLaunch": false,
    "category": "General purpose",
    "gpuNum": 0,
    "hideHardwareSpecs": false,
    "memoryGiB": 32,
    "name": "ml.m5d.2xlarge",
    "vcpuNum": 8
   },
   {
    "_defaultOrder": 15,
    "_isFastLaunch": false,
    "category": "General purpose",
    "gpuNum": 0,
    "hideHardwareSpecs": false,
    "memoryGiB": 64,
    "name": "ml.m5d.4xlarge",
    "vcpuNum": 16
   },
   {
    "_defaultOrder": 16,
    "_isFastLaunch": false,
    "category": "General purpose",
    "gpuNum": 0,
    "hideHardwareSpecs": false,
    "memoryGiB": 128,
    "name": "ml.m5d.8xlarge",
    "vcpuNum": 32
   },
   {
    "_defaultOrder": 17,
    "_isFastLaunch": false,
    "category": "General purpose",
    "gpuNum": 0,
    "hideHardwareSpecs": false,
    "memoryGiB": 192,
    "name": "ml.m5d.12xlarge",
    "vcpuNum": 48
   },
   {
    "_defaultOrder": 18,
    "_isFastLaunch": false,
    "category": "General purpose",
    "gpuNum": 0,
    "hideHardwareSpecs": false,
    "memoryGiB": 256,
    "name": "ml.m5d.16xlarge",
    "vcpuNum": 64
   },
   {
    "_defaultOrder": 19,
    "_isFastLaunch": false,
    "category": "General purpose",
    "gpuNum": 0,
    "hideHardwareSpecs": false,
    "memoryGiB": 384,
    "name": "ml.m5d.24xlarge",
    "vcpuNum": 96
   },
   {
    "_defaultOrder": 20,
    "_isFastLaunch": false,
    "category": "General purpose",
    "gpuNum": 0,
    "hideHardwareSpecs": true,
    "memoryGiB": 0,
    "name": "ml.geospatial.interactive",
    "supportedImageNames": [
     "sagemaker-geospatial-v1-0"
    ],
    "vcpuNum": 0
   },
   {
    "_defaultOrder": 21,
    "_isFastLaunch": true,
    "category": "Compute optimized",
    "gpuNum": 0,
    "hideHardwareSpecs": false,
    "memoryGiB": 4,
    "name": "ml.c5.large",
    "vcpuNum": 2
   },
   {
    "_defaultOrder": 22,
    "_isFastLaunch": false,
    "category": "Compute optimized",
    "gpuNum": 0,
    "hideHardwareSpecs": false,
    "memoryGiB": 8,
    "name": "ml.c5.xlarge",
    "vcpuNum": 4
   },
   {
    "_defaultOrder": 23,
    "_isFastLaunch": false,
    "category": "Compute optimized",
    "gpuNum": 0,
    "hideHardwareSpecs": false,
    "memoryGiB": 16,
    "name": "ml.c5.2xlarge",
    "vcpuNum": 8
   },
   {
    "_defaultOrder": 24,
    "_isFastLaunch": false,
    "category": "Compute optimized",
    "gpuNum": 0,
    "hideHardwareSpecs": false,
    "memoryGiB": 32,
    "name": "ml.c5.4xlarge",
    "vcpuNum": 16
   },
   {
    "_defaultOrder": 25,
    "_isFastLaunch": false,
    "category": "Compute optimized",
    "gpuNum": 0,
    "hideHardwareSpecs": false,
    "memoryGiB": 72,
    "name": "ml.c5.9xlarge",
    "vcpuNum": 36
   },
   {
    "_defaultOrder": 26,
    "_isFastLaunch": false,
    "category": "Compute optimized",
    "gpuNum": 0,
    "hideHardwareSpecs": false,
    "memoryGiB": 96,
    "name": "ml.c5.12xlarge",
    "vcpuNum": 48
   },
   {
    "_defaultOrder": 27,
    "_isFastLaunch": false,
    "category": "Compute optimized",
    "gpuNum": 0,
    "hideHardwareSpecs": false,
    "memoryGiB": 144,
    "name": "ml.c5.18xlarge",
    "vcpuNum": 72
   },
   {
    "_defaultOrder": 28,
    "_isFastLaunch": false,
    "category": "Compute optimized",
    "gpuNum": 0,
    "hideHardwareSpecs": false,
    "memoryGiB": 192,
    "name": "ml.c5.24xlarge",
    "vcpuNum": 96
   },
   {
    "_defaultOrder": 29,
    "_isFastLaunch": true,
    "category": "Accelerated computing",
    "gpuNum": 1,
    "hideHardwareSpecs": false,
    "memoryGiB": 16,
    "name": "ml.g4dn.xlarge",
    "vcpuNum": 4
   },
   {
    "_defaultOrder": 30,
    "_isFastLaunch": false,
    "category": "Accelerated computing",
    "gpuNum": 1,
    "hideHardwareSpecs": false,
    "memoryGiB": 32,
    "name": "ml.g4dn.2xlarge",
    "vcpuNum": 8
   },
   {
    "_defaultOrder": 31,
    "_isFastLaunch": false,
    "category": "Accelerated computing",
    "gpuNum": 1,
    "hideHardwareSpecs": false,
    "memoryGiB": 64,
    "name": "ml.g4dn.4xlarge",
    "vcpuNum": 16
   },
   {
    "_defaultOrder": 32,
    "_isFastLaunch": false,
    "category": "Accelerated computing",
    "gpuNum": 1,
    "hideHardwareSpecs": false,
    "memoryGiB": 128,
    "name": "ml.g4dn.8xlarge",
    "vcpuNum": 32
   },
   {
    "_defaultOrder": 33,
    "_isFastLaunch": false,
    "category": "Accelerated computing",
    "gpuNum": 4,
    "hideHardwareSpecs": false,
    "memoryGiB": 192,
    "name": "ml.g4dn.12xlarge",
    "vcpuNum": 48
   },
   {
    "_defaultOrder": 34,
    "_isFastLaunch": false,
    "category": "Accelerated computing",
    "gpuNum": 1,
    "hideHardwareSpecs": false,
    "memoryGiB": 256,
    "name": "ml.g4dn.16xlarge",
    "vcpuNum": 64
   },
   {
    "_defaultOrder": 35,
    "_isFastLaunch": false,
    "category": "Accelerated computing",
    "gpuNum": 1,
    "hideHardwareSpecs": false,
    "memoryGiB": 61,
    "name": "ml.p3.2xlarge",
    "vcpuNum": 8
   },
   {
    "_defaultOrder": 36,
    "_isFastLaunch": false,
    "category": "Accelerated computing",
    "gpuNum": 4,
    "hideHardwareSpecs": false,
    "memoryGiB": 244,
    "name": "ml.p3.8xlarge",
    "vcpuNum": 32
   },
   {
    "_defaultOrder": 37,
    "_isFastLaunch": false,
    "category": "Accelerated computing",
    "gpuNum": 8,
    "hideHardwareSpecs": false,
    "memoryGiB": 488,
    "name": "ml.p3.16xlarge",
    "vcpuNum": 64
   },
   {
    "_defaultOrder": 38,
    "_isFastLaunch": false,
    "category": "Accelerated computing",
    "gpuNum": 8,
    "hideHardwareSpecs": false,
    "memoryGiB": 768,
    "name": "ml.p3dn.24xlarge",
    "vcpuNum": 96
   },
   {
    "_defaultOrder": 39,
    "_isFastLaunch": false,
    "category": "Memory Optimized",
    "gpuNum": 0,
    "hideHardwareSpecs": false,
    "memoryGiB": 16,
    "name": "ml.r5.large",
    "vcpuNum": 2
   },
   {
    "_defaultOrder": 40,
    "_isFastLaunch": false,
    "category": "Memory Optimized",
    "gpuNum": 0,
    "hideHardwareSpecs": false,
    "memoryGiB": 32,
    "name": "ml.r5.xlarge",
    "vcpuNum": 4
   },
   {
    "_defaultOrder": 41,
    "_isFastLaunch": false,
    "category": "Memory Optimized",
    "gpuNum": 0,
    "hideHardwareSpecs": false,
    "memoryGiB": 64,
    "name": "ml.r5.2xlarge",
    "vcpuNum": 8
   },
   {
    "_defaultOrder": 42,
    "_isFastLaunch": false,
    "category": "Memory Optimized",
    "gpuNum": 0,
    "hideHardwareSpecs": false,
    "memoryGiB": 128,
    "name": "ml.r5.4xlarge",
    "vcpuNum": 16
   },
   {
    "_defaultOrder": 43,
    "_isFastLaunch": false,
    "category": "Memory Optimized",
    "gpuNum": 0,
    "hideHardwareSpecs": false,
    "memoryGiB": 256,
    "name": "ml.r5.8xlarge",
    "vcpuNum": 32
   },
   {
    "_defaultOrder": 44,
    "_isFastLaunch": false,
    "category": "Memory Optimized",
    "gpuNum": 0,
    "hideHardwareSpecs": false,
    "memoryGiB": 384,
    "name": "ml.r5.12xlarge",
    "vcpuNum": 48
   },
   {
    "_defaultOrder": 45,
    "_isFastLaunch": false,
    "category": "Memory Optimized",
    "gpuNum": 0,
    "hideHardwareSpecs": false,
    "memoryGiB": 512,
    "name": "ml.r5.16xlarge",
    "vcpuNum": 64
   },
   {
    "_defaultOrder": 46,
    "_isFastLaunch": false,
    "category": "Memory Optimized",
    "gpuNum": 0,
    "hideHardwareSpecs": false,
    "memoryGiB": 768,
    "name": "ml.r5.24xlarge",
    "vcpuNum": 96
   },
   {
    "_defaultOrder": 47,
    "_isFastLaunch": false,
    "category": "Accelerated computing",
    "gpuNum": 1,
    "hideHardwareSpecs": false,
    "memoryGiB": 16,
    "name": "ml.g5.xlarge",
    "vcpuNum": 4
   },
   {
    "_defaultOrder": 48,
    "_isFastLaunch": false,
    "category": "Accelerated computing",
    "gpuNum": 1,
    "hideHardwareSpecs": false,
    "memoryGiB": 32,
    "name": "ml.g5.2xlarge",
    "vcpuNum": 8
   },
   {
    "_defaultOrder": 49,
    "_isFastLaunch": false,
    "category": "Accelerated computing",
    "gpuNum": 1,
    "hideHardwareSpecs": false,
    "memoryGiB": 64,
    "name": "ml.g5.4xlarge",
    "vcpuNum": 16
   },
   {
    "_defaultOrder": 50,
    "_isFastLaunch": false,
    "category": "Accelerated computing",
    "gpuNum": 1,
    "hideHardwareSpecs": false,
    "memoryGiB": 128,
    "name": "ml.g5.8xlarge",
    "vcpuNum": 32
   },
   {
    "_defaultOrder": 51,
    "_isFastLaunch": false,
    "category": "Accelerated computing",
    "gpuNum": 1,
    "hideHardwareSpecs": false,
    "memoryGiB": 256,
    "name": "ml.g5.16xlarge",
    "vcpuNum": 64
   },
   {
    "_defaultOrder": 52,
    "_isFastLaunch": false,
    "category": "Accelerated computing",
    "gpuNum": 4,
    "hideHardwareSpecs": false,
    "memoryGiB": 192,
    "name": "ml.g5.12xlarge",
    "vcpuNum": 48
   },
   {
    "_defaultOrder": 53,
    "_isFastLaunch": false,
    "category": "Accelerated computing",
    "gpuNum": 4,
    "hideHardwareSpecs": false,
    "memoryGiB": 384,
    "name": "ml.g5.24xlarge",
    "vcpuNum": 96
   },
   {
    "_defaultOrder": 54,
    "_isFastLaunch": false,
    "category": "Accelerated computing",
    "gpuNum": 8,
    "hideHardwareSpecs": false,
    "memoryGiB": 768,
    "name": "ml.g5.48xlarge",
    "vcpuNum": 192
   },
   {
    "_defaultOrder": 55,
    "_isFastLaunch": false,
    "category": "Accelerated computing",
    "gpuNum": 8,
    "hideHardwareSpecs": false,
    "memoryGiB": 1152,
    "name": "ml.p4d.24xlarge",
    "vcpuNum": 96
   },
   {
    "_defaultOrder": 56,
    "_isFastLaunch": false,
    "category": "Accelerated computing",
    "gpuNum": 8,
    "hideHardwareSpecs": false,
    "memoryGiB": 1152,
    "name": "ml.p4de.24xlarge",
    "vcpuNum": 96
   }
  ],
  "instance_type": "ml.t3.medium",
  "kernelspec": {
   "display_name": "Python 3 (Data Science)",
   "language": "python",
   "name": "python3__SAGEMAKER_INTERNAL__arn:aws:sagemaker:us-east-1:081325390199:image/datascience-1.0"
  },
  "language_info": {
   "codemirror_mode": {
    "name": "ipython",
    "version": 3
   },
   "file_extension": ".py",
   "mimetype": "text/x-python",
   "name": "python",
   "nbconvert_exporter": "python",
   "pygments_lexer": "ipython3",
   "version": "3.7.10"
  }
 },
 "nbformat": 4,
 "nbformat_minor": 5
}
