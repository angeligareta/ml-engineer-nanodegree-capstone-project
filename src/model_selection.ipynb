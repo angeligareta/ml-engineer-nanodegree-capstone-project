{
 "cells": [
  {
   "cell_type": "code",
   "execution_count": null,
   "outputs": [],
   "source": [
    "!pip install autogluon"
   ],
   "metadata": {
    "collapsed": false,
    "ExecuteTime": {
     "start_time": "2023-05-19T16:42:55.105453Z",
     "end_time": "2023-05-19T16:44:30.067969Z"
    }
   }
  },
  {
   "cell_type": "code",
   "execution_count": 1,
   "outputs": [],
   "source": [
    "import numpy as np\n",
    "import pandas as pd\n",
    "from autogluon.tabular import TabularPredictor\n",
    "from sklearn.model_selection import train_test_split"
   ],
   "metadata": {
    "collapsed": false,
    "ExecuteTime": {
     "start_time": "2023-05-19T21:00:10.588175Z",
     "end_time": "2023-05-19T21:00:12.452884Z"
    }
   }
  },
  {
   "cell_type": "code",
   "execution_count": 2,
   "outputs": [
    {
     "data": {
      "text/plain": "        age became_member_on    income  membership_days  gender_F  gender_M  \\\n0      55.0       2017-07-15  112000.0              376         1         0   \n1      75.0       2017-05-09  100000.0              443         1         0   \n2      75.0       2017-05-09  100000.0              443         1         0   \n3      75.0       2017-05-09  100000.0              443         1         0   \n4      75.0       2017-05-09  100000.0              443         1         0   \n...     ...              ...       ...              ...       ...       ...   \n47011  83.0       2016-03-07   50000.0              871         1         0   \n47012  83.0       2016-03-07   50000.0              871         1         0   \n47013  83.0       2016-03-07   50000.0              871         1         0   \n47014  62.0       2017-07-22   82000.0              369         1         0   \n47015  62.0       2017-07-22   82000.0              369         1         0   \n\n       gender_O age_group                            person  \\\n0             0     45-54  0610b486422d4921ae7d2bf64640c50b   \n1             0       65+  78afa995795e4d85b5d9ceeca43f5fef   \n2             0       65+  78afa995795e4d85b5d9ceeca43f5fef   \n3             0       65+  78afa995795e4d85b5d9ceeca43f5fef   \n4             0       65+  78afa995795e4d85b5d9ceeca43f5fef   \n...         ...       ...                               ...   \n47011         0       65+  9dc1421481194dcd9400aec7c9ae6366   \n47012         0       65+  9dc1421481194dcd9400aec7c9ae6366   \n47013         0       65+  9dc1421481194dcd9400aec7c9ae6366   \n47014         0     55-64  e4052622e5ba45a8b96b59aba68cf068   \n47015         0     55-64  e4052622e5ba45a8b96b59aba68cf068   \n\n                               offer_id offer_viewed  \\\n0      9b98b8c7a33c4b65b9aebfe6a799e6d9        False   \n1      5a8bc65990b245e5a138643cd4eb9837         True   \n2      9b98b8c7a33c4b65b9aebfe6a799e6d9         True   \n3      ae264e3637204a6fb9bb56bc8210ddfd         True   \n4      f19421c1d4aa40978ebb69ca19b0e20d         True   \n...                                 ...          ...   \n47011  4d5c57ea9a6940dd891ad53e9dbe8da0         True   \n47012  9b98b8c7a33c4b65b9aebfe6a799e6d9         True   \n47013  ae264e3637204a6fb9bb56bc8210ddfd         True   \n47014  2298d6c36e964ae4a3e7e9706d1fb8c2         True   \n47015  f19421c1d4aa40978ebb69ca19b0e20d         True   \n\n      offer_completed_after_view  reward  difficulty  duration     offer_type  \\\n0                          False     5.0         5.0       7.0           bogo   \n1                          False     0.0         0.0       3.0  informational   \n2                           True     5.0         5.0       7.0           bogo   \n3                           True    10.0        10.0       7.0           bogo   \n4                          False     5.0         5.0       5.0           bogo   \n...                          ...     ...         ...       ...            ...   \n47011                       True    10.0        10.0       5.0           bogo   \n47012                      False     5.0         5.0       7.0           bogo   \n47013                      False    10.0        10.0       7.0           bogo   \n47014                       True     3.0         7.0       7.0       discount   \n47015                      False     5.0         5.0       5.0           bogo   \n\n       email  mobile  social  web  \n0        1.0     1.0     0.0  1.0  \n1        1.0     1.0     1.0  0.0  \n2        1.0     1.0     0.0  1.0  \n3        1.0     1.0     1.0  0.0  \n4        1.0     1.0     1.0  1.0  \n...      ...     ...     ...  ...  \n47011    1.0     1.0     1.0  1.0  \n47012    1.0     1.0     0.0  1.0  \n47013    1.0     1.0     1.0  0.0  \n47014    1.0     1.0     1.0  1.0  \n47015    1.0     1.0     1.0  1.0  \n\n[47016 rows x 20 columns]",
      "text/html": "<div>\n<style scoped>\n    .dataframe tbody tr th:only-of-type {\n        vertical-align: middle;\n    }\n\n    .dataframe tbody tr th {\n        vertical-align: top;\n    }\n\n    .dataframe thead th {\n        text-align: right;\n    }\n</style>\n<table border=\"1\" class=\"dataframe\">\n  <thead>\n    <tr style=\"text-align: right;\">\n      <th></th>\n      <th>age</th>\n      <th>became_member_on</th>\n      <th>income</th>\n      <th>membership_days</th>\n      <th>gender_F</th>\n      <th>gender_M</th>\n      <th>gender_O</th>\n      <th>age_group</th>\n      <th>person</th>\n      <th>offer_id</th>\n      <th>offer_viewed</th>\n      <th>offer_completed_after_view</th>\n      <th>reward</th>\n      <th>difficulty</th>\n      <th>duration</th>\n      <th>offer_type</th>\n      <th>email</th>\n      <th>mobile</th>\n      <th>social</th>\n      <th>web</th>\n    </tr>\n  </thead>\n  <tbody>\n    <tr>\n      <th>0</th>\n      <td>55.0</td>\n      <td>2017-07-15</td>\n      <td>112000.0</td>\n      <td>376</td>\n      <td>1</td>\n      <td>0</td>\n      <td>0</td>\n      <td>45-54</td>\n      <td>0610b486422d4921ae7d2bf64640c50b</td>\n      <td>9b98b8c7a33c4b65b9aebfe6a799e6d9</td>\n      <td>False</td>\n      <td>False</td>\n      <td>5.0</td>\n      <td>5.0</td>\n      <td>7.0</td>\n      <td>bogo</td>\n      <td>1.0</td>\n      <td>1.0</td>\n      <td>0.0</td>\n      <td>1.0</td>\n    </tr>\n    <tr>\n      <th>1</th>\n      <td>75.0</td>\n      <td>2017-05-09</td>\n      <td>100000.0</td>\n      <td>443</td>\n      <td>1</td>\n      <td>0</td>\n      <td>0</td>\n      <td>65+</td>\n      <td>78afa995795e4d85b5d9ceeca43f5fef</td>\n      <td>5a8bc65990b245e5a138643cd4eb9837</td>\n      <td>True</td>\n      <td>False</td>\n      <td>0.0</td>\n      <td>0.0</td>\n      <td>3.0</td>\n      <td>informational</td>\n      <td>1.0</td>\n      <td>1.0</td>\n      <td>1.0</td>\n      <td>0.0</td>\n    </tr>\n    <tr>\n      <th>2</th>\n      <td>75.0</td>\n      <td>2017-05-09</td>\n      <td>100000.0</td>\n      <td>443</td>\n      <td>1</td>\n      <td>0</td>\n      <td>0</td>\n      <td>65+</td>\n      <td>78afa995795e4d85b5d9ceeca43f5fef</td>\n      <td>9b98b8c7a33c4b65b9aebfe6a799e6d9</td>\n      <td>True</td>\n      <td>True</td>\n      <td>5.0</td>\n      <td>5.0</td>\n      <td>7.0</td>\n      <td>bogo</td>\n      <td>1.0</td>\n      <td>1.0</td>\n      <td>0.0</td>\n      <td>1.0</td>\n    </tr>\n    <tr>\n      <th>3</th>\n      <td>75.0</td>\n      <td>2017-05-09</td>\n      <td>100000.0</td>\n      <td>443</td>\n      <td>1</td>\n      <td>0</td>\n      <td>0</td>\n      <td>65+</td>\n      <td>78afa995795e4d85b5d9ceeca43f5fef</td>\n      <td>ae264e3637204a6fb9bb56bc8210ddfd</td>\n      <td>True</td>\n      <td>True</td>\n      <td>10.0</td>\n      <td>10.0</td>\n      <td>7.0</td>\n      <td>bogo</td>\n      <td>1.0</td>\n      <td>1.0</td>\n      <td>1.0</td>\n      <td>0.0</td>\n    </tr>\n    <tr>\n      <th>4</th>\n      <td>75.0</td>\n      <td>2017-05-09</td>\n      <td>100000.0</td>\n      <td>443</td>\n      <td>1</td>\n      <td>0</td>\n      <td>0</td>\n      <td>65+</td>\n      <td>78afa995795e4d85b5d9ceeca43f5fef</td>\n      <td>f19421c1d4aa40978ebb69ca19b0e20d</td>\n      <td>True</td>\n      <td>False</td>\n      <td>5.0</td>\n      <td>5.0</td>\n      <td>5.0</td>\n      <td>bogo</td>\n      <td>1.0</td>\n      <td>1.0</td>\n      <td>1.0</td>\n      <td>1.0</td>\n    </tr>\n    <tr>\n      <th>...</th>\n      <td>...</td>\n      <td>...</td>\n      <td>...</td>\n      <td>...</td>\n      <td>...</td>\n      <td>...</td>\n      <td>...</td>\n      <td>...</td>\n      <td>...</td>\n      <td>...</td>\n      <td>...</td>\n      <td>...</td>\n      <td>...</td>\n      <td>...</td>\n      <td>...</td>\n      <td>...</td>\n      <td>...</td>\n      <td>...</td>\n      <td>...</td>\n      <td>...</td>\n    </tr>\n    <tr>\n      <th>47011</th>\n      <td>83.0</td>\n      <td>2016-03-07</td>\n      <td>50000.0</td>\n      <td>871</td>\n      <td>1</td>\n      <td>0</td>\n      <td>0</td>\n      <td>65+</td>\n      <td>9dc1421481194dcd9400aec7c9ae6366</td>\n      <td>4d5c57ea9a6940dd891ad53e9dbe8da0</td>\n      <td>True</td>\n      <td>True</td>\n      <td>10.0</td>\n      <td>10.0</td>\n      <td>5.0</td>\n      <td>bogo</td>\n      <td>1.0</td>\n      <td>1.0</td>\n      <td>1.0</td>\n      <td>1.0</td>\n    </tr>\n    <tr>\n      <th>47012</th>\n      <td>83.0</td>\n      <td>2016-03-07</td>\n      <td>50000.0</td>\n      <td>871</td>\n      <td>1</td>\n      <td>0</td>\n      <td>0</td>\n      <td>65+</td>\n      <td>9dc1421481194dcd9400aec7c9ae6366</td>\n      <td>9b98b8c7a33c4b65b9aebfe6a799e6d9</td>\n      <td>True</td>\n      <td>False</td>\n      <td>5.0</td>\n      <td>5.0</td>\n      <td>7.0</td>\n      <td>bogo</td>\n      <td>1.0</td>\n      <td>1.0</td>\n      <td>0.0</td>\n      <td>1.0</td>\n    </tr>\n    <tr>\n      <th>47013</th>\n      <td>83.0</td>\n      <td>2016-03-07</td>\n      <td>50000.0</td>\n      <td>871</td>\n      <td>1</td>\n      <td>0</td>\n      <td>0</td>\n      <td>65+</td>\n      <td>9dc1421481194dcd9400aec7c9ae6366</td>\n      <td>ae264e3637204a6fb9bb56bc8210ddfd</td>\n      <td>True</td>\n      <td>False</td>\n      <td>10.0</td>\n      <td>10.0</td>\n      <td>7.0</td>\n      <td>bogo</td>\n      <td>1.0</td>\n      <td>1.0</td>\n      <td>1.0</td>\n      <td>0.0</td>\n    </tr>\n    <tr>\n      <th>47014</th>\n      <td>62.0</td>\n      <td>2017-07-22</td>\n      <td>82000.0</td>\n      <td>369</td>\n      <td>1</td>\n      <td>0</td>\n      <td>0</td>\n      <td>55-64</td>\n      <td>e4052622e5ba45a8b96b59aba68cf068</td>\n      <td>2298d6c36e964ae4a3e7e9706d1fb8c2</td>\n      <td>True</td>\n      <td>True</td>\n      <td>3.0</td>\n      <td>7.0</td>\n      <td>7.0</td>\n      <td>discount</td>\n      <td>1.0</td>\n      <td>1.0</td>\n      <td>1.0</td>\n      <td>1.0</td>\n    </tr>\n    <tr>\n      <th>47015</th>\n      <td>62.0</td>\n      <td>2017-07-22</td>\n      <td>82000.0</td>\n      <td>369</td>\n      <td>1</td>\n      <td>0</td>\n      <td>0</td>\n      <td>55-64</td>\n      <td>e4052622e5ba45a8b96b59aba68cf068</td>\n      <td>f19421c1d4aa40978ebb69ca19b0e20d</td>\n      <td>True</td>\n      <td>False</td>\n      <td>5.0</td>\n      <td>5.0</td>\n      <td>5.0</td>\n      <td>bogo</td>\n      <td>1.0</td>\n      <td>1.0</td>\n      <td>1.0</td>\n      <td>1.0</td>\n    </tr>\n  </tbody>\n</table>\n<p>47016 rows × 20 columns</p>\n</div>"
     },
     "execution_count": 2,
     "metadata": {},
     "output_type": "execute_result"
    }
   ],
   "source": [
    "processed_dataset = pd.read_feather('../data/processed/processed_dataset.feather')\n",
    "processed_dataset"
   ],
   "metadata": {
    "collapsed": false,
    "ExecuteTime": {
     "start_time": "2023-05-19T21:00:13.322686Z",
     "end_time": "2023-05-19T21:00:13.379644Z"
    }
   }
  },
  {
   "cell_type": "code",
   "execution_count": 3,
   "outputs": [
    {
     "name": "stdout",
     "output_type": "stream",
     "text": [
      "Nan features in target: 80\n",
      "Training set: (32855, 15)\n",
      "Validation set: (7040, 15)\n",
      "Test set: (7041, 15)\n"
     ]
    }
   ],
   "source": [
    "target_column = 'offer_completed_after_view'\n",
    "non_train_features = ['became_member_on', 'age_group', 'person', 'offer_id', 'offer_viewed']\n",
    "\n",
    "# Remove Nan features from dataset\n",
    "print(f'Nan features in target: {processed_dataset[target_column].isna().sum()}')\n",
    "processed_dataset = processed_dataset[processed_dataset[target_column].notna()]\n",
    "\n",
    "# Remove features not able to use for train\n",
    "processed_dataset = processed_dataset.drop(columns=non_train_features, axis=1)\n",
    "\n",
    "# Define the train, validation and test size ratios\n",
    "train_ratio = 0.7\n",
    "validation_ratio = 0.15\n",
    "test_ratio = 0.15\n",
    "\n",
    "# Split the dataset into train (70%) and test (30%)\n",
    "train_dataset, temp_dataset = train_test_split(processed_dataset, test_size=1 - train_ratio, random_state=42)\n",
    "\n",
    "# Calculate the size ratio of validation and test sets\n",
    "val_test_ratio = test_ratio / (test_ratio + validation_ratio)\n",
    "\n",
    "# Split the remaining dataset (X_temp, y_temp) into validation (15%) and test (15%)\n",
    "val_dataset, test_dataset = train_test_split(temp_dataset, test_size=val_test_ratio, random_state=42)\n",
    "\n",
    "print('Training set:', train_dataset.shape)\n",
    "print('Validation set:', val_dataset.shape)\n",
    "print('Test set:', test_dataset.shape)"
   ],
   "metadata": {
    "collapsed": false,
    "ExecuteTime": {
     "start_time": "2023-05-19T21:00:13.907041Z",
     "end_time": "2023-05-19T21:00:13.934160Z"
    }
   }
  },
  {
   "cell_type": "code",
   "execution_count": null,
   "outputs": [
    {
     "name": "stderr",
     "output_type": "stream",
     "text": [
      "No path specified. Models will be saved in: \"AutogluonModels/ag-20230519_190014/\"\n",
      "Presets specified: ['best_quality']\n",
      "Stack configuration (auto_stack=True): num_stack_levels=0, num_bag_folds=8, num_bag_sets=20\n",
      "Beginning AutoGluon training ... Time limit = 1800s\n",
      "AutoGluon will save models to \"AutogluonModels/ag-20230519_190014/\"\n",
      "AutoGluon Version:  0.7.0\n",
      "Python Version:     3.8.8\n",
      "Operating System:   Darwin\n",
      "Platform Machine:   x86_64\n",
      "Platform Version:   Darwin Kernel Version 22.4.0: Mon Mar  6 21:00:17 PST 2023; root:xnu-8796.101.5~3/RELEASE_X86_64\n",
      "Train Data Rows:    32855\n",
      "Train Data Columns: 14\n",
      "Tuning Data Rows:    7040\n",
      "Tuning Data Columns: 14\n",
      "Label Column: offer_completed_after_view\n",
      "Preprocessing data ...\n",
      "Selected class <--> label mapping:  class 1 = True, class 0 = False\n",
      "Using Feature Generators to preprocess the data ...\n",
      "Fitting AutoMLPipelineFeatureGenerator...\n",
      "\tAvailable Memory:                    22238.23 MB\n",
      "\tTrain Data (Original)  Memory Usage: 5.87 MB (0.0% of available memory)\n",
      "\tInferring data type of each feature based on column values. Set feature_metadata_in to manually specify special dtypes of the features.\n",
      "\tStage 1 Generators:\n",
      "\t\tFitting AsTypeFeatureGenerator...\n",
      "\t\t\tNote: Converting 6 features to boolean dtype as they only contain 2 unique values.\n",
      "\tStage 2 Generators:\n",
      "\t\tFitting FillNaFeatureGenerator...\n",
      "\tStage 3 Generators:\n",
      "\t\tFitting IdentityFeatureGenerator...\n",
      "\t\tFitting CategoryFeatureGenerator...\n",
      "\t\t\tFitting CategoryMemoryMinimizeFeatureGenerator...\n",
      "\tStage 4 Generators:\n",
      "\t\tFitting DropUniqueFeatureGenerator...\n",
      "\tUseless Original Features (Count: 1): ['email']\n",
      "\t\tThese features carry no predictive signal and should be manually investigated.\n",
      "\t\tThis is typically a feature which has the same value for all rows.\n",
      "\t\tThese features do not need to be present at inference time.\n",
      "\tTypes of features in original data (raw dtype, special dtypes):\n",
      "\t\t('float', [])  : 8 | ['age', 'income', 'reward', 'difficulty', 'duration', ...]\n",
      "\t\t('int', [])    : 4 | ['membership_days', 'gender_F', 'gender_M', 'gender_O']\n",
      "\t\t('object', []) : 1 | ['offer_type']\n",
      "\tTypes of features in processed data (raw dtype, special dtypes):\n",
      "\t\t('category', [])  : 1 | ['offer_type']\n",
      "\t\t('float', [])     : 5 | ['age', 'income', 'reward', 'difficulty', 'duration']\n",
      "\t\t('int', [])       : 1 | ['membership_days']\n",
      "\t\t('int', ['bool']) : 6 | ['gender_F', 'gender_M', 'gender_O', 'mobile', 'social', ...]\n",
      "\t0.1s = Fit runtime\n",
      "\t13 features in original data used to generate 13 features in processed data.\n",
      "\tTrain Data (Processed) Memory Usage: 2.19 MB (0.0% of available memory)\n",
      "Data preprocessing and feature engineering runtime = 0.18s ...\n",
      "AutoGluon will gauge predictive performance using evaluation metric: 'average_precision'\n",
      "\tThis metric expects predicted probabilities rather than predicted class labels, so you'll need to use predict_proba() instead of predict()\n",
      "\tTo change this, specify the eval_metric parameter of Predictor()\n",
      "use_bag_holdout=True, will use tuning_data as holdout (will not be used for early stopping).\n",
      "Fitting 13 L1 models ...\n",
      "Fitting model: KNeighborsUnif_BAG_L1 ... Training model for up to 1799.82s of the 1799.82s of remaining time.\n",
      "\t0.4111\t = Validation score   (average_precision)\n",
      "\t0.06s\t = Training   runtime\n",
      "\t0.09s\t = Validation runtime\n",
      "Fitting model: KNeighborsDist_BAG_L1 ... Training model for up to 1798.53s of the 1798.52s of remaining time.\n",
      "\t0.4384\t = Validation score   (average_precision)\n",
      "\t0.05s\t = Training   runtime\n",
      "\t0.09s\t = Validation runtime\n",
      "Fitting model: LightGBMXT_BAG_L1 ... Training model for up to 1798.33s of the 1798.33s of remaining time.\n",
      "\tWill use sequential fold fitting strategy because Darwin OS does not yet support parallel folding.\n",
      "\tFitting 8 child models (S1F1 - S1F8) | Fitting with SequentialLocalFoldFittingStrategy\n"
     ]
    }
   ],
   "source": [
    "# AutoGluon predictor\n",
    "predictor = TabularPredictor(\n",
    "    label='offer_completed_after_view',\n",
    "    problem_type='binary',\n",
    "    eval_metric='average_precision'  # Use PR_AUC since it is an unbalanced binary classification problem\n",
    ").fit(\n",
    "    train_data=train_dataset,\n",
    "    tuning_data=val_dataset,\n",
    "    presets='best_quality',\n",
    "    time_limit=60 * 30, # 30 minutes of time limit\n",
    "    use_bag_holdout=True,\n",
    "    verbosity=2,\n",
    ")"
   ],
   "metadata": {
    "collapsed": false,
    "pycharm": {
     "is_executing": true
    }
   }
  },
  {
   "cell_type": "code",
   "execution_count": null,
   "outputs": [],
   "source": [
    "# Note email is dropped because is constant"
   ],
   "metadata": {
    "collapsed": false
   }
  },
  {
   "cell_type": "code",
   "execution_count": null,
   "outputs": [],
   "source": [
    "# View the summary of the fit\n",
    "fit_summary = predictor.fit_summary()\n",
    "display(fit_summary)"
   ],
   "metadata": {
    "collapsed": false,
    "ExecuteTime": {
     "start_time": "2023-05-19T16:39:50.571342Z",
     "end_time": "2023-05-19T16:39:50.634545Z"
    }
   }
  },
  {
   "cell_type": "code",
   "execution_count": null,
   "outputs": [],
   "source": [
    "comparison = predictor.leaderboard(val_dataset, silent=True)\n",
    "comparison"
   ],
   "metadata": {
    "collapsed": false,
    "ExecuteTime": {
     "start_time": "2023-05-19T16:40:17.566203Z",
     "end_time": "2023-05-19T16:40:18.558409Z"
    }
   }
  },
  {
   "cell_type": "code",
   "execution_count": null,
   "outputs": [],
   "source": [],
   "metadata": {
    "collapsed": false
   }
  }
 ],
 "metadata": {
  "kernelspec": {
   "display_name": "Python 3",
   "language": "python",
   "name": "python3"
  },
  "language_info": {
   "codemirror_mode": {
    "name": "ipython",
    "version": 2
   },
   "file_extension": ".py",
   "mimetype": "text/x-python",
   "name": "python",
   "nbconvert_exporter": "python",
   "pygments_lexer": "ipython2",
   "version": "2.7.6"
  }
 },
 "nbformat": 4,
 "nbformat_minor": 0
}
