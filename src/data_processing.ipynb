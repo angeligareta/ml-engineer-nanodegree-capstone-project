{
 "cells": [
  {
   "cell_type": "markdown",
   "source": [
    "# Starbucks Capstone Challenge\n",
    "\n",
    "### Introduction\n",
    "\n",
    "This data set contains simulated data that mimics customer behavior on the Starbucks rewards mobile app. Once every few days, Starbucks sends out an offer to users of the mobile app. An offer can be merely an advertisement for a drink or an actual offer such as a discount or BOGO (buy one get one free). Some users might not receive any offer during certain weeks.\n",
    "\n",
    "Not all users receive the same offer, and that is the challenge to solve with this data set.\n",
    "\n",
    "Your task is to combine transaction, demographic and offer data to determine which demographic groups respond best to which offer type. This data set is a simplified version of the real Starbucks app because the underlying simulator only has one product whereas Starbucks actually sells dozens of products.\n",
    "\n",
    "Every offer has a validity period before the offer expires. As an example, a BOGO offer might be valid for only 5 days. You'll see in the data set that informational offers have a validity period even though these ads are merely providing information about a product; for example, if an informational offer has 7 days of validity, you can assume the customer is feeling the influence of the offer for 7 days after receiving the advertisement.\n",
    "\n",
    "You'll be given transactional data showing user purchases made on the app including the timestamp of purchase and the amount of money spent on a purchase. This transactional data also has a record for each offer that a user receives as well as a record for when a user actually views the offer. There are also records for when a user completes an offer.\n",
    "\n",
    "Keep in mind as well that someone using the app might make a purchase through the app without having received an offer or seen an offer.\n",
    "\n",
    "### Example\n",
    "\n",
    "To give an example, a user could receive a discount offer buy 10 dollars get 2 off on Monday. The offer is valid for 10 days from receipt. If the customer accumulates at least 10 dollars in purchases during the validity period, the customer completes the offer.\n",
    "\n",
    "However, there are a few things to watch out for in this data set. Customers do not opt into the offers that they receive; in other words, a user can receive an offer, never actually view the offer, and still complete the offer. For example, a user might receive the \"buy 10 dollars get 2 dollars off offer\", but the user never opens the offer during the 10 day validity period. The customer spends 15 dollars during those ten days. There will be an offer completion record in the data set; however, the customer was not influenced by the offer because the customer never viewed the offer.\n",
    "\n",
    "### Cleaning\n",
    "\n",
    "This makes data cleaning especially important and tricky.\n",
    "\n",
    "You'll also want to take into account that some demographic groups will make purchases even if they don't receive an offer. From a business perspective, if a customer is going to make a 10 dollar purchase without an offer anyway, you wouldn't want to send a buy 10 dollars get 2 dollars off offer. You'll want to try to assess what a certain demographic group will buy when not receiving any offers.\n",
    "\n",
    "### Final Advice\n",
    "\n",
    "Because this is a capstone project, you are free to analyze the data any way you see fit. For example, you could build a machine learning model that predicts how much someone will spend based on demographics and offer type. Or you could build a model that predicts whether or not someone will respond to an offer. Or, you don't need to build a machine learning model at all. You could develop a set of heuristics that determine what offer you should send to each customer (i.e., 75 percent of women customers who were 35 years old responded to offer A vs 40 percent from the same demographic to offer B, so send offer A)."
   ],
   "metadata": {
    "collapsed": false
   }
  },
  {
   "cell_type": "markdown",
   "source": [
    "# Data Sets\n",
    "\n",
    "The data is contained in three files:\n",
    "\n",
    "* portfolio.json - containing offer ids and meta data about each offer (duration, type, etc.)\n",
    "* profile.json - demographic data for each customer\n",
    "    * transcript.json - records for transactions, offers received, offers viewed, and offers completed\n",
    "\n",
    "Here is the schema and explanation of each variable in the files:\n",
    "\n",
    "**portfolio.json**\n",
    "* id (string) - offer id\n",
    "* offer_type (string) - type of offer ie BOGO, discount, informational\n",
    "* difficulty (int) - minimum required spend to complete an offer\n",
    "* reward (int) - reward given for completing an offer\n",
    "* duration (int) - time for offer to be open, in days\n",
    "* channels (list of strings)\n",
    "\n",
    "**profile.json**\n",
    "* age (int) - age of the customer\n",
    "* became_member_on (int) - date when customer created an app account\n",
    "* gender (str) - gender of the customer (note some entries contain 'O' for other rather than M or F)\n",
    "* id (str) - customer id\n",
    "* income (float) - customer's income\n",
    "\n",
    "**transcript.json**\n",
    "* event (str) - record description (ie transaction, offer received, offer viewed, etc.)\n",
    "* person (str) - customer id\n",
    "* time (int) - time in hours since start of test. The data begins at time t=0\n",
    "* value - (dict of strings) - either an offer id or transaction amount depending on the record\n",
    "\n",
    "**Note:** If you are using the workspace, you will need to go to the terminal and run the command `conda update pandas` before reading in the files. This is because the version of pandas in the workspace cannot read in the transcript.json file correctly, but the newest version of pandas can. You can access the termnal from the orange icon in the top left of this notebook.\n",
    "\n",
    "You can see how to access the terminal and how the install works using the two images below.  First you need to access the terminal:\n",
    "\n",
    "<img src=\"pic1.png\"/>\n",
    "\n",
    "Then you will want to run the above command:\n",
    "\n",
    "<img src=\"pic2.png\"/>\n",
    "\n",
    "Finally, when you enter back into the notebook (use the jupyter icon again), you should be able to run the below cell without any errors."
   ],
   "metadata": {
    "collapsed": false
   }
  },
  {
   "cell_type": "markdown",
   "source": [
    "# 1. Import Libraries and Load Datasets"
   ],
   "metadata": {
    "collapsed": false
   }
  },
  {
   "cell_type": "code",
   "execution_count": 1,
   "outputs": [],
   "source": [
    "import pandas as pd\n",
    "import numpy as np\n",
    "import matplotlib.pyplot as plt\n",
    "import seaborn as sns\n",
    "import plotly.express as px\n",
    "\n",
    "# read in the json files\n",
    "portfolio = pd.read_json('data/portfolio.json', orient='records', lines=True)\n",
    "profile = pd.read_json('data/profile.json', orient='records', lines=True)\n",
    "transcript = pd.read_json('data/transcript.json', orient='records', lines=True)"
   ],
   "metadata": {
    "collapsed": false,
    "ExecuteTime": {
     "start_time": "2023-05-12T19:04:33.838445Z",
     "end_time": "2023-05-12T19:04:36.514149Z"
    }
   }
  },
  {
   "cell_type": "markdown",
   "source": [
    "# 2. Individual Dataset Examination"
   ],
   "metadata": {
    "collapsed": false
   }
  },
  {
   "cell_type": "markdown",
   "source": [
    "## 2.1 Profile Dataset"
   ],
   "metadata": {
    "collapsed": false
   }
  },
  {
   "cell_type": "code",
   "execution_count": 2,
   "outputs": [
    {
     "name": "stdout",
     "output_type": "stream",
     "text": [
      "                age  became_member_on         income\n",
      "count  17000.000000      1.700000e+04   14825.000000\n",
      "mean      62.531412      2.016703e+07   65404.991568\n",
      "std       26.738580      1.167750e+04   21598.299410\n",
      "min       18.000000      2.013073e+07   30000.000000\n",
      "25%       45.000000      2.016053e+07   49000.000000\n",
      "50%       58.000000      2.017080e+07   64000.000000\n",
      "75%       73.000000      2.017123e+07   80000.000000\n",
      "max      118.000000      2.018073e+07  120000.000000\n"
     ]
    },
    {
     "data": {
      "text/plain": "      gender  age                                id  became_member_on  \\\n0       None  118  68be06ca386d4c31939f3a4f0e3dd783          20170212   \n1          F   55  0610b486422d4921ae7d2bf64640c50b          20170715   \n2       None  118  38fe809add3b4fcf9315a9694bb96ff5          20180712   \n3          F   75  78afa995795e4d85b5d9ceeca43f5fef          20170509   \n4       None  118  a03223e636434f42ac4c3df47e8bac43          20170804   \n...      ...  ...                               ...               ...   \n16995      F   45  6d5f3a774f3d4714ab0c092238f3a1d7          20180604   \n16996      M   61  2cb4f97358b841b9a9773a7aa05a9d77          20180713   \n16997      M   49  01d26f638c274aa0b965d24cefe3183f          20170126   \n16998      F   83  9dc1421481194dcd9400aec7c9ae6366          20160307   \n16999      F   62  e4052622e5ba45a8b96b59aba68cf068          20170722   \n\n         income  \n0           NaN  \n1      112000.0  \n2           NaN  \n3      100000.0  \n4           NaN  \n...         ...  \n16995   54000.0  \n16996   72000.0  \n16997   73000.0  \n16998   50000.0  \n16999   82000.0  \n\n[17000 rows x 5 columns]",
      "text/html": "<div>\n<style scoped>\n    .dataframe tbody tr th:only-of-type {\n        vertical-align: middle;\n    }\n\n    .dataframe tbody tr th {\n        vertical-align: top;\n    }\n\n    .dataframe thead th {\n        text-align: right;\n    }\n</style>\n<table border=\"1\" class=\"dataframe\">\n  <thead>\n    <tr style=\"text-align: right;\">\n      <th></th>\n      <th>gender</th>\n      <th>age</th>\n      <th>id</th>\n      <th>became_member_on</th>\n      <th>income</th>\n    </tr>\n  </thead>\n  <tbody>\n    <tr>\n      <th>0</th>\n      <td>None</td>\n      <td>118</td>\n      <td>68be06ca386d4c31939f3a4f0e3dd783</td>\n      <td>20170212</td>\n      <td>NaN</td>\n    </tr>\n    <tr>\n      <th>1</th>\n      <td>F</td>\n      <td>55</td>\n      <td>0610b486422d4921ae7d2bf64640c50b</td>\n      <td>20170715</td>\n      <td>112000.0</td>\n    </tr>\n    <tr>\n      <th>2</th>\n      <td>None</td>\n      <td>118</td>\n      <td>38fe809add3b4fcf9315a9694bb96ff5</td>\n      <td>20180712</td>\n      <td>NaN</td>\n    </tr>\n    <tr>\n      <th>3</th>\n      <td>F</td>\n      <td>75</td>\n      <td>78afa995795e4d85b5d9ceeca43f5fef</td>\n      <td>20170509</td>\n      <td>100000.0</td>\n    </tr>\n    <tr>\n      <th>4</th>\n      <td>None</td>\n      <td>118</td>\n      <td>a03223e636434f42ac4c3df47e8bac43</td>\n      <td>20170804</td>\n      <td>NaN</td>\n    </tr>\n    <tr>\n      <th>...</th>\n      <td>...</td>\n      <td>...</td>\n      <td>...</td>\n      <td>...</td>\n      <td>...</td>\n    </tr>\n    <tr>\n      <th>16995</th>\n      <td>F</td>\n      <td>45</td>\n      <td>6d5f3a774f3d4714ab0c092238f3a1d7</td>\n      <td>20180604</td>\n      <td>54000.0</td>\n    </tr>\n    <tr>\n      <th>16996</th>\n      <td>M</td>\n      <td>61</td>\n      <td>2cb4f97358b841b9a9773a7aa05a9d77</td>\n      <td>20180713</td>\n      <td>72000.0</td>\n    </tr>\n    <tr>\n      <th>16997</th>\n      <td>M</td>\n      <td>49</td>\n      <td>01d26f638c274aa0b965d24cefe3183f</td>\n      <td>20170126</td>\n      <td>73000.0</td>\n    </tr>\n    <tr>\n      <th>16998</th>\n      <td>F</td>\n      <td>83</td>\n      <td>9dc1421481194dcd9400aec7c9ae6366</td>\n      <td>20160307</td>\n      <td>50000.0</td>\n    </tr>\n    <tr>\n      <th>16999</th>\n      <td>F</td>\n      <td>62</td>\n      <td>e4052622e5ba45a8b96b59aba68cf068</td>\n      <td>20170722</td>\n      <td>82000.0</td>\n    </tr>\n  </tbody>\n</table>\n<p>17000 rows × 5 columns</p>\n</div>"
     },
     "execution_count": 2,
     "metadata": {},
     "output_type": "execute_result"
    }
   ],
   "source": [
    "# Basic statistics for profile dataset\n",
    "print(profile.describe())\n",
    "profile"
   ],
   "metadata": {
    "collapsed": false,
    "ExecuteTime": {
     "start_time": "2023-05-12T19:04:36.518322Z",
     "end_time": "2023-05-12T19:04:36.584028Z"
    }
   }
  },
  {
   "cell_type": "code",
   "execution_count": 3,
   "outputs": [
    {
     "data": {
      "text/plain": "<Figure size 1584x288 with 4 Axes>",
      "image/png": "[encoded data removed]"
     },
     "metadata": {},
     "output_type": "display_data"
    }
   ],
   "source": [
    "# Visualization of the distribution of age, income, and membership duration\n",
    "fig, axs = plt.subplots(1, 4, figsize=(22, 4))\n",
    "sns.histplot(profile['age'], kde=True, ax=axs[0])\n",
    "sns.histplot(profile['income'], kde=True, ax=axs[1])\n",
    "sns.histplot(profile['became_member_on'], kde=False, bins=50, ax=axs[2])\n",
    "sns.countplot(x='gender', data=profile, ax=axs[3])\n",
    "fig.suptitle('Distributions of Age, Income, Membership Date and Gender Distribution')\n",
    "plt.show()"
   ],
   "metadata": {
    "collapsed": false,
    "ExecuteTime": {
     "start_time": "2023-05-12T19:04:36.589116Z",
     "end_time": "2023-05-12T19:04:37.509448Z"
    }
   }
  },
  {
   "cell_type": "markdown",
   "source": [
    "### 2.1.1 Feature cleaning"
   ],
   "metadata": {
    "collapsed": false
   }
  },
  {
   "cell_type": "code",
   "execution_count": 4,
   "outputs": [
    {
     "name": "stdout",
     "output_type": "stream",
     "text": [
      "118    2175\n",
      "58      408\n",
      "53      372\n",
      "51      363\n",
      "54      359\n",
      "       ... \n",
      "100      12\n",
      "96        8\n",
      "98        5\n",
      "99        5\n",
      "101       5\n",
      "Name: age, Length: 85, dtype: int64\n",
      "age    income  gender\n",
      "False  False   False     14825\n",
      "True   True    True       2175\n",
      "dtype: int64\n"
     ]
    }
   ],
   "source": [
    "# For age 118 seems to be the same as missing\n",
    "print(profile['age'].value_counts())\n",
    "profile['age'] = profile['age'].apply(lambda x: np.nan if x == 118 else x)\n",
    "\n",
    "# Since age, income and gender are our main predictors and when one is missing all of them are missing, we will remove them (account for 11%).\n",
    "print(profile[['age', 'income', 'gender']].isna().value_counts())\n",
    "\n",
    "# Handle missing values\n",
    "profile.dropna(subset=['age', 'income', 'gender'], inplace=True)"
   ],
   "metadata": {
    "collapsed": false,
    "ExecuteTime": {
     "start_time": "2023-05-12T19:04:37.511103Z",
     "end_time": "2023-05-12T19:04:37.548339Z"
    }
   }
  },
  {
   "cell_type": "markdown",
   "source": [
    "## 2.2 Portfolio Dataset\n",
    "This is our second dataset to be used as input. It contains the offers available and the features of each offer."
   ],
   "metadata": {
    "collapsed": false
   }
  },
  {
   "cell_type": "code",
   "execution_count": 5,
   "outputs": [
    {
     "name": "stdout",
     "output_type": "stream",
     "text": [
      "          reward  difficulty   duration\n",
      "count  10.000000   10.000000  10.000000\n",
      "mean    4.200000    7.700000   6.500000\n",
      "std     3.583915    5.831905   2.321398\n",
      "min     0.000000    0.000000   3.000000\n",
      "25%     2.000000    5.000000   5.000000\n",
      "50%     4.000000    8.500000   7.000000\n",
      "75%     5.000000   10.000000   7.000000\n",
      "max    10.000000   20.000000  10.000000\n"
     ]
    },
    {
     "data": {
      "text/plain": "   reward                      channels  difficulty  duration     offer_type  \\\n0      10       [email, mobile, social]          10         7           bogo   \n1      10  [web, email, mobile, social]          10         5           bogo   \n2       0          [web, email, mobile]           0         4  informational   \n3       5          [web, email, mobile]           5         7           bogo   \n4       5                  [web, email]          20        10       discount   \n5       3  [web, email, mobile, social]           7         7       discount   \n6       2  [web, email, mobile, social]          10        10       discount   \n7       0       [email, mobile, social]           0         3  informational   \n8       5  [web, email, mobile, social]           5         5           bogo   \n9       2          [web, email, mobile]          10         7       discount   \n\n                                 id  \n0  ae264e3637204a6fb9bb56bc8210ddfd  \n1  4d5c57ea9a6940dd891ad53e9dbe8da0  \n2  3f207df678b143eea3cee63160fa8bed  \n3  9b98b8c7a33c4b65b9aebfe6a799e6d9  \n4  0b1e1539f2cc45b7b9fa7c272da2e1d7  \n5  2298d6c36e964ae4a3e7e9706d1fb8c2  \n6  fafdcd668e3743c1bb461111dcafc2a4  \n7  5a8bc65990b245e5a138643cd4eb9837  \n8  f19421c1d4aa40978ebb69ca19b0e20d  \n9  2906b810c7d4411798c6938adc9daaa5  ",
      "text/html": "<div>\n<style scoped>\n    .dataframe tbody tr th:only-of-type {\n        vertical-align: middle;\n    }\n\n    .dataframe tbody tr th {\n        vertical-align: top;\n    }\n\n    .dataframe thead th {\n        text-align: right;\n    }\n</style>\n<table border=\"1\" class=\"dataframe\">\n  <thead>\n    <tr style=\"text-align: right;\">\n      <th></th>\n      <th>reward</th>\n      <th>channels</th>\n      <th>difficulty</th>\n      <th>duration</th>\n      <th>offer_type</th>\n      <th>id</th>\n    </tr>\n  </thead>\n  <tbody>\n    <tr>\n      <th>0</th>\n      <td>10</td>\n      <td>[email, mobile, social]</td>\n      <td>10</td>\n      <td>7</td>\n      <td>bogo</td>\n      <td>ae264e3637204a6fb9bb56bc8210ddfd</td>\n    </tr>\n    <tr>\n      <th>1</th>\n      <td>10</td>\n      <td>[web, email, mobile, social]</td>\n      <td>10</td>\n      <td>5</td>\n      <td>bogo</td>\n      <td>4d5c57ea9a6940dd891ad53e9dbe8da0</td>\n    </tr>\n    <tr>\n      <th>2</th>\n      <td>0</td>\n      <td>[web, email, mobile]</td>\n      <td>0</td>\n      <td>4</td>\n      <td>informational</td>\n      <td>3f207df678b143eea3cee63160fa8bed</td>\n    </tr>\n    <tr>\n      <th>3</th>\n      <td>5</td>\n      <td>[web, email, mobile]</td>\n      <td>5</td>\n      <td>7</td>\n      <td>bogo</td>\n      <td>9b98b8c7a33c4b65b9aebfe6a799e6d9</td>\n    </tr>\n    <tr>\n      <th>4</th>\n      <td>5</td>\n      <td>[web, email]</td>\n      <td>20</td>\n      <td>10</td>\n      <td>discount</td>\n      <td>0b1e1539f2cc45b7b9fa7c272da2e1d7</td>\n    </tr>\n    <tr>\n      <th>5</th>\n      <td>3</td>\n      <td>[web, email, mobile, social]</td>\n      <td>7</td>\n      <td>7</td>\n      <td>discount</td>\n      <td>2298d6c36e964ae4a3e7e9706d1fb8c2</td>\n    </tr>\n    <tr>\n      <th>6</th>\n      <td>2</td>\n      <td>[web, email, mobile, social]</td>\n      <td>10</td>\n      <td>10</td>\n      <td>discount</td>\n      <td>fafdcd668e3743c1bb461111dcafc2a4</td>\n    </tr>\n    <tr>\n      <th>7</th>\n      <td>0</td>\n      <td>[email, mobile, social]</td>\n      <td>0</td>\n      <td>3</td>\n      <td>informational</td>\n      <td>5a8bc65990b245e5a138643cd4eb9837</td>\n    </tr>\n    <tr>\n      <th>8</th>\n      <td>5</td>\n      <td>[web, email, mobile, social]</td>\n      <td>5</td>\n      <td>5</td>\n      <td>bogo</td>\n      <td>f19421c1d4aa40978ebb69ca19b0e20d</td>\n    </tr>\n    <tr>\n      <th>9</th>\n      <td>2</td>\n      <td>[web, email, mobile]</td>\n      <td>10</td>\n      <td>7</td>\n      <td>discount</td>\n      <td>2906b810c7d4411798c6938adc9daaa5</td>\n    </tr>\n  </tbody>\n</table>\n</div>"
     },
     "execution_count": 5,
     "metadata": {},
     "output_type": "execute_result"
    }
   ],
   "source": [
    "# Basic statistics for portfolio dataset\n",
    "print(portfolio.describe())\n",
    "portfolio"
   ],
   "metadata": {
    "collapsed": false,
    "ExecuteTime": {
     "start_time": "2023-05-12T19:04:37.548522Z",
     "end_time": "2023-05-12T19:04:37.684392Z"
    }
   }
  },
  {
   "cell_type": "code",
   "execution_count": 6,
   "outputs": [
    {
     "data": {
      "text/plain": "<Figure size 864x288 with 2 Axes>",
      "image/png": "[encoded data removed]"
     },
     "metadata": {},
     "output_type": "display_data"
    }
   ],
   "source": [
    "# Visualization of offer type distribution\n",
    "fig, axs = plt.subplots(1, 2, figsize=(12, 4))\n",
    "sns.countplot(x='offer_type', data=portfolio, ax=axs[0])\n",
    "channels_dist = portfolio['channels'].explode().value_counts()\n",
    "sns.barplot(x=channels_dist.index, y=channels_dist.values)\n",
    "plt.title('Offer Type and Channel Distribution')\n",
    "plt.show()"
   ],
   "metadata": {
    "collapsed": false,
    "ExecuteTime": {
     "start_time": "2023-05-12T19:04:37.554990Z",
     "end_time": "2023-05-12T19:04:37.793954Z"
    }
   }
  },
  {
   "cell_type": "code",
   "execution_count": 7,
   "outputs": [
    {
     "data": {
      "text/plain": "   reward  difficulty  duration     offer_type  \\\n0      10          10         7           bogo   \n1      10          10         5           bogo   \n2       0           0         4  informational   \n3       5           5         7           bogo   \n4       5          20        10       discount   \n5       3           7         7       discount   \n6       2          10        10       discount   \n7       0           0         3  informational   \n8       5           5         5           bogo   \n9       2          10         7       discount   \n\n                                 id  email  mobile  social  web  \n0  ae264e3637204a6fb9bb56bc8210ddfd      1       1       1    0  \n1  4d5c57ea9a6940dd891ad53e9dbe8da0      1       1       1    1  \n2  3f207df678b143eea3cee63160fa8bed      1       1       0    1  \n3  9b98b8c7a33c4b65b9aebfe6a799e6d9      1       1       0    1  \n4  0b1e1539f2cc45b7b9fa7c272da2e1d7      1       0       0    1  \n5  2298d6c36e964ae4a3e7e9706d1fb8c2      1       1       1    1  \n6  fafdcd668e3743c1bb461111dcafc2a4      1       1       1    1  \n7  5a8bc65990b245e5a138643cd4eb9837      1       1       1    0  \n8  f19421c1d4aa40978ebb69ca19b0e20d      1       1       1    1  \n9  2906b810c7d4411798c6938adc9daaa5      1       1       0    1  ",
      "text/html": "<div>\n<style scoped>\n    .dataframe tbody tr th:only-of-type {\n        vertical-align: middle;\n    }\n\n    .dataframe tbody tr th {\n        vertical-align: top;\n    }\n\n    .dataframe thead th {\n        text-align: right;\n    }\n</style>\n<table border=\"1\" class=\"dataframe\">\n  <thead>\n    <tr style=\"text-align: right;\">\n      <th></th>\n      <th>reward</th>\n      <th>difficulty</th>\n      <th>duration</th>\n      <th>offer_type</th>\n      <th>id</th>\n      <th>email</th>\n      <th>mobile</th>\n      <th>social</th>\n      <th>web</th>\n    </tr>\n  </thead>\n  <tbody>\n    <tr>\n      <th>0</th>\n      <td>10</td>\n      <td>10</td>\n      <td>7</td>\n      <td>bogo</td>\n      <td>ae264e3637204a6fb9bb56bc8210ddfd</td>\n      <td>1</td>\n      <td>1</td>\n      <td>1</td>\n      <td>0</td>\n    </tr>\n    <tr>\n      <th>1</th>\n      <td>10</td>\n      <td>10</td>\n      <td>5</td>\n      <td>bogo</td>\n      <td>4d5c57ea9a6940dd891ad53e9dbe8da0</td>\n      <td>1</td>\n      <td>1</td>\n      <td>1</td>\n      <td>1</td>\n    </tr>\n    <tr>\n      <th>2</th>\n      <td>0</td>\n      <td>0</td>\n      <td>4</td>\n      <td>informational</td>\n      <td>3f207df678b143eea3cee63160fa8bed</td>\n      <td>1</td>\n      <td>1</td>\n      <td>0</td>\n      <td>1</td>\n    </tr>\n    <tr>\n      <th>3</th>\n      <td>5</td>\n      <td>5</td>\n      <td>7</td>\n      <td>bogo</td>\n      <td>9b98b8c7a33c4b65b9aebfe6a799e6d9</td>\n      <td>1</td>\n      <td>1</td>\n      <td>0</td>\n      <td>1</td>\n    </tr>\n    <tr>\n      <th>4</th>\n      <td>5</td>\n      <td>20</td>\n      <td>10</td>\n      <td>discount</td>\n      <td>0b1e1539f2cc45b7b9fa7c272da2e1d7</td>\n      <td>1</td>\n      <td>0</td>\n      <td>0</td>\n      <td>1</td>\n    </tr>\n    <tr>\n      <th>5</th>\n      <td>3</td>\n      <td>7</td>\n      <td>7</td>\n      <td>discount</td>\n      <td>2298d6c36e964ae4a3e7e9706d1fb8c2</td>\n      <td>1</td>\n      <td>1</td>\n      <td>1</td>\n      <td>1</td>\n    </tr>\n    <tr>\n      <th>6</th>\n      <td>2</td>\n      <td>10</td>\n      <td>10</td>\n      <td>discount</td>\n      <td>fafdcd668e3743c1bb461111dcafc2a4</td>\n      <td>1</td>\n      <td>1</td>\n      <td>1</td>\n      <td>1</td>\n    </tr>\n    <tr>\n      <th>7</th>\n      <td>0</td>\n      <td>0</td>\n      <td>3</td>\n      <td>informational</td>\n      <td>5a8bc65990b245e5a138643cd4eb9837</td>\n      <td>1</td>\n      <td>1</td>\n      <td>1</td>\n      <td>0</td>\n    </tr>\n    <tr>\n      <th>8</th>\n      <td>5</td>\n      <td>5</td>\n      <td>5</td>\n      <td>bogo</td>\n      <td>f19421c1d4aa40978ebb69ca19b0e20d</td>\n      <td>1</td>\n      <td>1</td>\n      <td>1</td>\n      <td>1</td>\n    </tr>\n    <tr>\n      <th>9</th>\n      <td>2</td>\n      <td>10</td>\n      <td>7</td>\n      <td>discount</td>\n      <td>2906b810c7d4411798c6938adc9daaa5</td>\n      <td>1</td>\n      <td>1</td>\n      <td>0</td>\n      <td>1</td>\n    </tr>\n  </tbody>\n</table>\n</div>"
     },
     "execution_count": 7,
     "metadata": {},
     "output_type": "execute_result"
    }
   ],
   "source": [
    "# Transform channel column into several boolean columns\n",
    "channels_dummies = pd.get_dummies(portfolio['channels'].apply(pd.Series).stack()).sum(level=0)\n",
    "\n",
    "# Concatenate the new columns with the original DataFrame\n",
    "portfolio = pd.concat([portfolio.drop(columns='channels'), channels_dummies], axis=1)\n",
    "portfolio"
   ],
   "metadata": {
    "collapsed": false,
    "ExecuteTime": {
     "start_time": "2023-05-12T19:04:37.807810Z",
     "end_time": "2023-05-12T19:04:37.815765Z"
    }
   }
  },
  {
   "cell_type": "markdown",
   "source": [
    "## 2.3 Transcript Dataset\n",
    "This is our 'target' data, what happened for a certain person and offer id.\n",
    "\n",
    "From this we could for instance predict: sum volume customer will do after receving the order (without viewing it), or after viewing the order. Or simplify as if they saw it.\n",
    "\n",
    "Note: I can't use transactions of other offers for the customer since I don't know the timestamps of it, but that would probably have high predictive power."
   ],
   "metadata": {
    "collapsed": false
   }
  },
  {
   "cell_type": "code",
   "execution_count": 8,
   "outputs": [
    {
     "name": "stdout",
     "output_type": "stream",
     "text": [
      "                time\n",
      "count  306534.000000\n",
      "mean      366.382940\n",
      "std       200.326314\n",
      "min         0.000000\n",
      "25%       186.000000\n",
      "50%       408.000000\n",
      "75%       528.000000\n",
      "max       714.000000\n"
     ]
    },
    {
     "data": {
      "text/plain": "                                  person           event  time  \\\n0       78afa995795e4d85b5d9ceeca43f5fef  offer received     0   \n1       a03223e636434f42ac4c3df47e8bac43  offer received     0   \n2       e2127556f4f64592b11af22de27a7932  offer received     0   \n3       8ec6ce2a7e7949b1bf142def7d0e0586  offer received     0   \n4       68617ca6246f4fbc85e91a2a49552598  offer received     0   \n...                                  ...             ...   ...   \n306529  b3a1272bc9904337b331bf348c3e8c17     transaction   714   \n306530  68213b08d99a4ae1b0dcb72aebd9aa35     transaction   714   \n306531  a00058cf10334a308c68e7631c529907     transaction   714   \n306532  76ddbd6576844afe811f1a3c0fbb5bec     transaction   714   \n306533  c02b10e8752c4d8e9b73f918558531f7     transaction   714   \n\n                                offer_id  amount  offer_reward  \n0       9b98b8c7a33c4b65b9aebfe6a799e6d9     NaN           NaN  \n1       0b1e1539f2cc45b7b9fa7c272da2e1d7     NaN           NaN  \n2       2906b810c7d4411798c6938adc9daaa5     NaN           NaN  \n3       fafdcd668e3743c1bb461111dcafc2a4     NaN           NaN  \n4       4d5c57ea9a6940dd891ad53e9dbe8da0     NaN           NaN  \n...                                  ...     ...           ...  \n306529                              None    1.59           NaN  \n306530                              None    9.53           NaN  \n306531                              None    3.61           NaN  \n306532                              None    3.53           NaN  \n306533                              None    4.05           NaN  \n\n[306534 rows x 6 columns]",
      "text/html": "<div>\n<style scoped>\n    .dataframe tbody tr th:only-of-type {\n        vertical-align: middle;\n    }\n\n    .dataframe tbody tr th {\n        vertical-align: top;\n    }\n\n    .dataframe thead th {\n        text-align: right;\n    }\n</style>\n<table border=\"1\" class=\"dataframe\">\n  <thead>\n    <tr style=\"text-align: right;\">\n      <th></th>\n      <th>person</th>\n      <th>event</th>\n      <th>time</th>\n      <th>offer_id</th>\n      <th>amount</th>\n      <th>offer_reward</th>\n    </tr>\n  </thead>\n  <tbody>\n    <tr>\n      <th>0</th>\n      <td>78afa995795e4d85b5d9ceeca43f5fef</td>\n      <td>offer received</td>\n      <td>0</td>\n      <td>9b98b8c7a33c4b65b9aebfe6a799e6d9</td>\n      <td>NaN</td>\n      <td>NaN</td>\n    </tr>\n    <tr>\n      <th>1</th>\n      <td>a03223e636434f42ac4c3df47e8bac43</td>\n      <td>offer received</td>\n      <td>0</td>\n      <td>0b1e1539f2cc45b7b9fa7c272da2e1d7</td>\n      <td>NaN</td>\n      <td>NaN</td>\n    </tr>\n    <tr>\n      <th>2</th>\n      <td>e2127556f4f64592b11af22de27a7932</td>\n      <td>offer received</td>\n      <td>0</td>\n      <td>2906b810c7d4411798c6938adc9daaa5</td>\n      <td>NaN</td>\n      <td>NaN</td>\n    </tr>\n    <tr>\n      <th>3</th>\n      <td>8ec6ce2a7e7949b1bf142def7d0e0586</td>\n      <td>offer received</td>\n      <td>0</td>\n      <td>fafdcd668e3743c1bb461111dcafc2a4</td>\n      <td>NaN</td>\n      <td>NaN</td>\n    </tr>\n    <tr>\n      <th>4</th>\n      <td>68617ca6246f4fbc85e91a2a49552598</td>\n      <td>offer received</td>\n      <td>0</td>\n      <td>4d5c57ea9a6940dd891ad53e9dbe8da0</td>\n      <td>NaN</td>\n      <td>NaN</td>\n    </tr>\n    <tr>\n      <th>...</th>\n      <td>...</td>\n      <td>...</td>\n      <td>...</td>\n      <td>...</td>\n      <td>...</td>\n      <td>...</td>\n    </tr>\n    <tr>\n      <th>306529</th>\n      <td>b3a1272bc9904337b331bf348c3e8c17</td>\n      <td>transaction</td>\n      <td>714</td>\n      <td>None</td>\n      <td>1.59</td>\n      <td>NaN</td>\n    </tr>\n    <tr>\n      <th>306530</th>\n      <td>68213b08d99a4ae1b0dcb72aebd9aa35</td>\n      <td>transaction</td>\n      <td>714</td>\n      <td>None</td>\n      <td>9.53</td>\n      <td>NaN</td>\n    </tr>\n    <tr>\n      <th>306531</th>\n      <td>a00058cf10334a308c68e7631c529907</td>\n      <td>transaction</td>\n      <td>714</td>\n      <td>None</td>\n      <td>3.61</td>\n      <td>NaN</td>\n    </tr>\n    <tr>\n      <th>306532</th>\n      <td>76ddbd6576844afe811f1a3c0fbb5bec</td>\n      <td>transaction</td>\n      <td>714</td>\n      <td>None</td>\n      <td>3.53</td>\n      <td>NaN</td>\n    </tr>\n    <tr>\n      <th>306533</th>\n      <td>c02b10e8752c4d8e9b73f918558531f7</td>\n      <td>transaction</td>\n      <td>714</td>\n      <td>None</td>\n      <td>4.05</td>\n      <td>NaN</td>\n    </tr>\n  </tbody>\n</table>\n<p>306534 rows × 6 columns</p>\n</div>"
     },
     "execution_count": 8,
     "metadata": {},
     "output_type": "execute_result"
    }
   ],
   "source": [
    "# Basic statistics for transcript dataset\n",
    "print(transcript.describe())\n",
    "\n",
    "# Process data\n",
    "transcript['offer_id'] = transcript['value'].apply(lambda x: x.get('offer id') if 'offer id' in x else x.get('offer_id'))\n",
    "transcript['amount'] = transcript['value'].apply(lambda x: x.get('amount'))\n",
    "transcript['offer_reward'] = transcript['value'].apply(lambda x: x.get('reward'))\n",
    "transcript.drop(columns='value', inplace=True)\n",
    "\n",
    "transcript"
   ],
   "metadata": {
    "collapsed": false,
    "ExecuteTime": {
     "start_time": "2023-05-12T19:04:37.823465Z",
     "end_time": "2023-05-12T19:04:38.272818Z"
    }
   }
  },
  {
   "cell_type": "code",
   "execution_count": 9,
   "outputs": [
    {
     "data": {
      "text/plain": "<Figure size 432x288 with 1 Axes>",
      "image/png": "[encoded data removed]"
     },
     "metadata": {},
     "output_type": "display_data"
    }
   ],
   "source": [
    "# Visualization of event type distribution\n",
    "sns.countplot(x='event', data=transcript)\n",
    "plt.title('Event Type Distribution')\n",
    "plt.show()"
   ],
   "metadata": {
    "collapsed": false,
    "ExecuteTime": {
     "start_time": "2023-05-12T19:04:38.273534Z",
     "end_time": "2023-05-12T19:04:38.889284Z"
    }
   }
  },
  {
   "cell_type": "markdown",
   "source": [
    "# 5. Feature Engineering"
   ],
   "metadata": {
    "collapsed": false
   }
  },
  {
   "cell_type": "markdown",
   "source": [
    "### 5.1 Input engineering"
   ],
   "metadata": {
    "collapsed": false
   }
  },
  {
   "cell_type": "code",
   "execution_count": 10,
   "outputs": [
    {
     "data": {
      "text/plain": "        age                                id became_member_on    income  \\\n1      55.0  0610b486422d4921ae7d2bf64640c50b       2017-07-15  112000.0   \n3      75.0  78afa995795e4d85b5d9ceeca43f5fef       2017-05-09  100000.0   \n5      68.0  e2127556f4f64592b11af22de27a7932       2018-04-26   70000.0   \n8      65.0  389bc3fa690240e798340f5a15918d5c       2018-02-09   53000.0   \n12     58.0  2eeac8d8feae4a8cad5a6af0499a211d       2017-11-11   51000.0   \n...     ...                               ...              ...       ...   \n16995  45.0  6d5f3a774f3d4714ab0c092238f3a1d7       2018-06-04   54000.0   \n16996  61.0  2cb4f97358b841b9a9773a7aa05a9d77       2018-07-13   72000.0   \n16997  49.0  01d26f638c274aa0b965d24cefe3183f       2017-01-26   73000.0   \n16998  83.0  9dc1421481194dcd9400aec7c9ae6366       2016-03-07   50000.0   \n16999  62.0  e4052622e5ba45a8b96b59aba68cf068       2017-07-22   82000.0   \n\n       membership_days  gender_F  gender_M  gender_O  \n1                  376         1         0         0  \n3                  443         1         0         0  \n5                   91         0         1         0  \n8                  167         0         1         0  \n12                 257         0         1         0  \n...                ...       ...       ...       ...  \n16995               52         1         0         0  \n16996               13         0         1         0  \n16997              546         0         1         0  \n16998              871         1         0         0  \n16999              369         1         0         0  \n\n[14825 rows x 8 columns]",
      "text/html": "<div>\n<style scoped>\n    .dataframe tbody tr th:only-of-type {\n        vertical-align: middle;\n    }\n\n    .dataframe tbody tr th {\n        vertical-align: top;\n    }\n\n    .dataframe thead th {\n        text-align: right;\n    }\n</style>\n<table border=\"1\" class=\"dataframe\">\n  <thead>\n    <tr style=\"text-align: right;\">\n      <th></th>\n      <th>age</th>\n      <th>id</th>\n      <th>became_member_on</th>\n      <th>income</th>\n      <th>membership_days</th>\n      <th>gender_F</th>\n      <th>gender_M</th>\n      <th>gender_O</th>\n    </tr>\n  </thead>\n  <tbody>\n    <tr>\n      <th>1</th>\n      <td>55.0</td>\n      <td>0610b486422d4921ae7d2bf64640c50b</td>\n      <td>2017-07-15</td>\n      <td>112000.0</td>\n      <td>376</td>\n      <td>1</td>\n      <td>0</td>\n      <td>0</td>\n    </tr>\n    <tr>\n      <th>3</th>\n      <td>75.0</td>\n      <td>78afa995795e4d85b5d9ceeca43f5fef</td>\n      <td>2017-05-09</td>\n      <td>100000.0</td>\n      <td>443</td>\n      <td>1</td>\n      <td>0</td>\n      <td>0</td>\n    </tr>\n    <tr>\n      <th>5</th>\n      <td>68.0</td>\n      <td>e2127556f4f64592b11af22de27a7932</td>\n      <td>2018-04-26</td>\n      <td>70000.0</td>\n      <td>91</td>\n      <td>0</td>\n      <td>1</td>\n      <td>0</td>\n    </tr>\n    <tr>\n      <th>8</th>\n      <td>65.0</td>\n      <td>389bc3fa690240e798340f5a15918d5c</td>\n      <td>2018-02-09</td>\n      <td>53000.0</td>\n      <td>167</td>\n      <td>0</td>\n      <td>1</td>\n      <td>0</td>\n    </tr>\n    <tr>\n      <th>12</th>\n      <td>58.0</td>\n      <td>2eeac8d8feae4a8cad5a6af0499a211d</td>\n      <td>2017-11-11</td>\n      <td>51000.0</td>\n      <td>257</td>\n      <td>0</td>\n      <td>1</td>\n      <td>0</td>\n    </tr>\n    <tr>\n      <th>...</th>\n      <td>...</td>\n      <td>...</td>\n      <td>...</td>\n      <td>...</td>\n      <td>...</td>\n      <td>...</td>\n      <td>...</td>\n      <td>...</td>\n    </tr>\n    <tr>\n      <th>16995</th>\n      <td>45.0</td>\n      <td>6d5f3a774f3d4714ab0c092238f3a1d7</td>\n      <td>2018-06-04</td>\n      <td>54000.0</td>\n      <td>52</td>\n      <td>1</td>\n      <td>0</td>\n      <td>0</td>\n    </tr>\n    <tr>\n      <th>16996</th>\n      <td>61.0</td>\n      <td>2cb4f97358b841b9a9773a7aa05a9d77</td>\n      <td>2018-07-13</td>\n      <td>72000.0</td>\n      <td>13</td>\n      <td>0</td>\n      <td>1</td>\n      <td>0</td>\n    </tr>\n    <tr>\n      <th>16997</th>\n      <td>49.0</td>\n      <td>01d26f638c274aa0b965d24cefe3183f</td>\n      <td>2017-01-26</td>\n      <td>73000.0</td>\n      <td>546</td>\n      <td>0</td>\n      <td>1</td>\n      <td>0</td>\n    </tr>\n    <tr>\n      <th>16998</th>\n      <td>83.0</td>\n      <td>9dc1421481194dcd9400aec7c9ae6366</td>\n      <td>2016-03-07</td>\n      <td>50000.0</td>\n      <td>871</td>\n      <td>1</td>\n      <td>0</td>\n      <td>0</td>\n    </tr>\n    <tr>\n      <th>16999</th>\n      <td>62.0</td>\n      <td>e4052622e5ba45a8b96b59aba68cf068</td>\n      <td>2017-07-22</td>\n      <td>82000.0</td>\n      <td>369</td>\n      <td>1</td>\n      <td>0</td>\n      <td>0</td>\n    </tr>\n  </tbody>\n</table>\n<p>14825 rows × 8 columns</p>\n</div>"
     },
     "execution_count": 10,
     "metadata": {},
     "output_type": "execute_result"
    }
   ],
   "source": [
    "# Replace datetime column by days since it would be easier to understand for the model\n",
    "profile['became_member_on'] = pd.to_datetime(profile['became_member_on'], format='%Y%m%d')\n",
    "maximum_became_member_on = profile['became_member_on'].max()\n",
    "\n",
    "profile['membership_days'] = (maximum_became_member_on - profile['became_member_on']).dt.days\n",
    "profile.drop(columns=['became_member_on'])\n",
    "\n",
    "# One-hot encode categorical variables\n",
    "profile = pd.concat([profile.drop(columns='gender'), pd.get_dummies(profile[['gender']])], axis=1)\n",
    "profile"
   ],
   "metadata": {
    "collapsed": false,
    "ExecuteTime": {
     "start_time": "2023-05-12T19:05:55.454823Z",
     "end_time": "2023-05-12T19:05:55.480952Z"
    }
   }
  },
  {
   "cell_type": "code",
   "execution_count": 11,
   "outputs": [
    {
     "data": {
      "text/plain": "        age                                id became_member_on    income  \\\n1      55.0  0610b486422d4921ae7d2bf64640c50b       2017-07-15  112000.0   \n3      75.0  78afa995795e4d85b5d9ceeca43f5fef       2017-05-09  100000.0   \n5      68.0  e2127556f4f64592b11af22de27a7932       2018-04-26   70000.0   \n8      65.0  389bc3fa690240e798340f5a15918d5c       2018-02-09   53000.0   \n12     58.0  2eeac8d8feae4a8cad5a6af0499a211d       2017-11-11   51000.0   \n...     ...                               ...              ...       ...   \n16995  45.0  6d5f3a774f3d4714ab0c092238f3a1d7       2018-06-04   54000.0   \n16996  61.0  2cb4f97358b841b9a9773a7aa05a9d77       2018-07-13   72000.0   \n16997  49.0  01d26f638c274aa0b965d24cefe3183f       2017-01-26   73000.0   \n16998  83.0  9dc1421481194dcd9400aec7c9ae6366       2016-03-07   50000.0   \n16999  62.0  e4052622e5ba45a8b96b59aba68cf068       2017-07-22   82000.0   \n\n       membership_days  gender_F  gender_M  gender_O age_group  \n1                  376         1         0         0     45-54  \n3                  443         1         0         0       65+  \n5                   91         0         1         0       65+  \n8                  167         0         1         0     55-64  \n12                 257         0         1         0     55-64  \n...                ...       ...       ...       ...       ...  \n16995               52         1         0         0     35-44  \n16996               13         0         1         0     55-64  \n16997              546         0         1         0     45-54  \n16998              871         1         0         0       65+  \n16999              369         1         0         0     55-64  \n\n[14825 rows x 9 columns]",
      "text/html": "<div>\n<style scoped>\n    .dataframe tbody tr th:only-of-type {\n        vertical-align: middle;\n    }\n\n    .dataframe tbody tr th {\n        vertical-align: top;\n    }\n\n    .dataframe thead th {\n        text-align: right;\n    }\n</style>\n<table border=\"1\" class=\"dataframe\">\n  <thead>\n    <tr style=\"text-align: right;\">\n      <th></th>\n      <th>age</th>\n      <th>id</th>\n      <th>became_member_on</th>\n      <th>income</th>\n      <th>membership_days</th>\n      <th>gender_F</th>\n      <th>gender_M</th>\n      <th>gender_O</th>\n      <th>age_group</th>\n    </tr>\n  </thead>\n  <tbody>\n    <tr>\n      <th>1</th>\n      <td>55.0</td>\n      <td>0610b486422d4921ae7d2bf64640c50b</td>\n      <td>2017-07-15</td>\n      <td>112000.0</td>\n      <td>376</td>\n      <td>1</td>\n      <td>0</td>\n      <td>0</td>\n      <td>45-54</td>\n    </tr>\n    <tr>\n      <th>3</th>\n      <td>75.0</td>\n      <td>78afa995795e4d85b5d9ceeca43f5fef</td>\n      <td>2017-05-09</td>\n      <td>100000.0</td>\n      <td>443</td>\n      <td>1</td>\n      <td>0</td>\n      <td>0</td>\n      <td>65+</td>\n    </tr>\n    <tr>\n      <th>5</th>\n      <td>68.0</td>\n      <td>e2127556f4f64592b11af22de27a7932</td>\n      <td>2018-04-26</td>\n      <td>70000.0</td>\n      <td>91</td>\n      <td>0</td>\n      <td>1</td>\n      <td>0</td>\n      <td>65+</td>\n    </tr>\n    <tr>\n      <th>8</th>\n      <td>65.0</td>\n      <td>389bc3fa690240e798340f5a15918d5c</td>\n      <td>2018-02-09</td>\n      <td>53000.0</td>\n      <td>167</td>\n      <td>0</td>\n      <td>1</td>\n      <td>0</td>\n      <td>55-64</td>\n    </tr>\n    <tr>\n      <th>12</th>\n      <td>58.0</td>\n      <td>2eeac8d8feae4a8cad5a6af0499a211d</td>\n      <td>2017-11-11</td>\n      <td>51000.0</td>\n      <td>257</td>\n      <td>0</td>\n      <td>1</td>\n      <td>0</td>\n      <td>55-64</td>\n    </tr>\n    <tr>\n      <th>...</th>\n      <td>...</td>\n      <td>...</td>\n      <td>...</td>\n      <td>...</td>\n      <td>...</td>\n      <td>...</td>\n      <td>...</td>\n      <td>...</td>\n      <td>...</td>\n    </tr>\n    <tr>\n      <th>16995</th>\n      <td>45.0</td>\n      <td>6d5f3a774f3d4714ab0c092238f3a1d7</td>\n      <td>2018-06-04</td>\n      <td>54000.0</td>\n      <td>52</td>\n      <td>1</td>\n      <td>0</td>\n      <td>0</td>\n      <td>35-44</td>\n    </tr>\n    <tr>\n      <th>16996</th>\n      <td>61.0</td>\n      <td>2cb4f97358b841b9a9773a7aa05a9d77</td>\n      <td>2018-07-13</td>\n      <td>72000.0</td>\n      <td>13</td>\n      <td>0</td>\n      <td>1</td>\n      <td>0</td>\n      <td>55-64</td>\n    </tr>\n    <tr>\n      <th>16997</th>\n      <td>49.0</td>\n      <td>01d26f638c274aa0b965d24cefe3183f</td>\n      <td>2017-01-26</td>\n      <td>73000.0</td>\n      <td>546</td>\n      <td>0</td>\n      <td>1</td>\n      <td>0</td>\n      <td>45-54</td>\n    </tr>\n    <tr>\n      <th>16998</th>\n      <td>83.0</td>\n      <td>9dc1421481194dcd9400aec7c9ae6366</td>\n      <td>2016-03-07</td>\n      <td>50000.0</td>\n      <td>871</td>\n      <td>1</td>\n      <td>0</td>\n      <td>0</td>\n      <td>65+</td>\n    </tr>\n    <tr>\n      <th>16999</th>\n      <td>62.0</td>\n      <td>e4052622e5ba45a8b96b59aba68cf068</td>\n      <td>2017-07-22</td>\n      <td>82000.0</td>\n      <td>369</td>\n      <td>1</td>\n      <td>0</td>\n      <td>0</td>\n      <td>55-64</td>\n    </tr>\n  </tbody>\n</table>\n<p>14825 rows × 9 columns</p>\n</div>"
     },
     "execution_count": 11,
     "metadata": {},
     "output_type": "execute_result"
    }
   ],
   "source": [
    "# Calculate the mean and standard deviation of income and amounts per user, based on their gender and age groups\n",
    "age_bins = [18, 25, 35, 45, 55, 65, 100]\n",
    "age_labels = ['18-24', '25-34', '35-44', '45-54', '55-64', '65+']\n",
    "profile['age_group'] = pd.cut(profile['age'], bins=age_bins, labels=age_labels)\n",
    "profile"
   ],
   "metadata": {
    "collapsed": false,
    "ExecuteTime": {
     "start_time": "2023-05-12T19:05:56.245447Z",
     "end_time": "2023-05-12T19:05:56.296872Z"
    }
   }
  },
  {
   "cell_type": "markdown",
   "source": [
    "### 5.2 Target definition\n",
    "\n",
    "We will calculate three types of variables to experiment with:\n",
    "- Probability of viewing an offer: This would help us understand if customers are more likely to even view the offers sent to them.\n",
    "- Probability of completing an offer, given it was viewed: By considering only those cases where the customer has viewed the offer, we can remove the noise caused by unviewed offers. This will help us analyze how effective offers are, conditional on them being seen.\n",
    "- Total transaction amount after viewing an offer: This target variable would help us understand the effectiveness of offers in terms of driving customer spending.\n"
   ],
   "metadata": {
    "collapsed": false
   }
  },
  {
   "cell_type": "code",
   "execution_count": 146,
   "outputs": [
    {
     "data": {
      "text/plain": "                                                                                  time  \\\nperson                           offer_id                         event                  \n0009655768c64bdeb2e877511632db8f 2906b810c7d4411798c6938adc9daaa5 offer received     1   \na09a2e837d2545999220c592b6c05956 4d5c57ea9a6940dd891ad53e9dbe8da0 offer received     1   \n                                 9b98b8c7a33c4b65b9aebfe6a799e6d9 offer received     1   \na09c68b1798542a6ae9277046de72dc3 2906b810c7d4411798c6938adc9daaa5 offer received     1   \n                                 5a8bc65990b245e5a138643cd4eb9837 offer received     1   \n...                                                                                ...   \n2ea50de315514ccaa5079db4c1ecbc0b fafdcd668e3743c1bb461111dcafc2a4 offer received     5   \neece6a9a7bdd4ea1b0f812f34fc619d6 5a8bc65990b245e5a138643cd4eb9837 offer received     5   \n6d2db3aad94648259e539920fc2cf2a6 f19421c1d4aa40978ebb69ca19b0e20d offer received     5   \n43a50d7e5c8547a9aa1ec31291b9fc30 0b1e1539f2cc45b7b9fa7c272da2e1d7 offer received     5   \n23d67a23296a485781e69c109a10a1cf 5a8bc65990b245e5a138643cd4eb9837 offer received     5   \n\n                                                                                  amount  \\\nperson                           offer_id                         event                    \n0009655768c64bdeb2e877511632db8f 2906b810c7d4411798c6938adc9daaa5 offer received       0   \na09a2e837d2545999220c592b6c05956 4d5c57ea9a6940dd891ad53e9dbe8da0 offer received       0   \n                                 9b98b8c7a33c4b65b9aebfe6a799e6d9 offer received       0   \na09c68b1798542a6ae9277046de72dc3 2906b810c7d4411798c6938adc9daaa5 offer received       0   \n                                 5a8bc65990b245e5a138643cd4eb9837 offer received       0   \n...                                                                                  ...   \n2ea50de315514ccaa5079db4c1ecbc0b fafdcd668e3743c1bb461111dcafc2a4 offer received       0   \neece6a9a7bdd4ea1b0f812f34fc619d6 5a8bc65990b245e5a138643cd4eb9837 offer received       0   \n6d2db3aad94648259e539920fc2cf2a6 f19421c1d4aa40978ebb69ca19b0e20d offer received       0   \n43a50d7e5c8547a9aa1ec31291b9fc30 0b1e1539f2cc45b7b9fa7c272da2e1d7 offer received       0   \n23d67a23296a485781e69c109a10a1cf 5a8bc65990b245e5a138643cd4eb9837 offer received       0   \n\n                                                                                  offer_reward  \nperson                           offer_id                         event                         \n0009655768c64bdeb2e877511632db8f 2906b810c7d4411798c6938adc9daaa5 offer received             0  \na09a2e837d2545999220c592b6c05956 4d5c57ea9a6940dd891ad53e9dbe8da0 offer received             0  \n                                 9b98b8c7a33c4b65b9aebfe6a799e6d9 offer received             0  \na09c68b1798542a6ae9277046de72dc3 2906b810c7d4411798c6938adc9daaa5 offer received             0  \n                                 5a8bc65990b245e5a138643cd4eb9837 offer received             0  \n...                                                                                        ...  \n2ea50de315514ccaa5079db4c1ecbc0b fafdcd668e3743c1bb461111dcafc2a4 offer received             0  \neece6a9a7bdd4ea1b0f812f34fc619d6 5a8bc65990b245e5a138643cd4eb9837 offer received             0  \n6d2db3aad94648259e539920fc2cf2a6 f19421c1d4aa40978ebb69ca19b0e20d offer received             0  \n43a50d7e5c8547a9aa1ec31291b9fc30 0b1e1539f2cc45b7b9fa7c272da2e1d7 offer received             0  \n23d67a23296a485781e69c109a10a1cf 5a8bc65990b245e5a138643cd4eb9837 offer received             0  \n\n[63288 rows x 3 columns]",
      "text/html": "<div>\n<style scoped>\n    .dataframe tbody tr th:only-of-type {\n        vertical-align: middle;\n    }\n\n    .dataframe tbody tr th {\n        vertical-align: top;\n    }\n\n    .dataframe thead th {\n        text-align: right;\n    }\n</style>\n<table border=\"1\" class=\"dataframe\">\n  <thead>\n    <tr style=\"text-align: right;\">\n      <th></th>\n      <th></th>\n      <th></th>\n      <th>time</th>\n      <th>amount</th>\n      <th>offer_reward</th>\n    </tr>\n    <tr>\n      <th>person</th>\n      <th>offer_id</th>\n      <th>event</th>\n      <th></th>\n      <th></th>\n      <th></th>\n    </tr>\n  </thead>\n  <tbody>\n    <tr>\n      <th>0009655768c64bdeb2e877511632db8f</th>\n      <th>2906b810c7d4411798c6938adc9daaa5</th>\n      <th>offer received</th>\n      <td>1</td>\n      <td>0</td>\n      <td>0</td>\n    </tr>\n    <tr>\n      <th rowspan=\"2\" valign=\"top\">a09a2e837d2545999220c592b6c05956</th>\n      <th>4d5c57ea9a6940dd891ad53e9dbe8da0</th>\n      <th>offer received</th>\n      <td>1</td>\n      <td>0</td>\n      <td>0</td>\n    </tr>\n    <tr>\n      <th>9b98b8c7a33c4b65b9aebfe6a799e6d9</th>\n      <th>offer received</th>\n      <td>1</td>\n      <td>0</td>\n      <td>0</td>\n    </tr>\n    <tr>\n      <th rowspan=\"2\" valign=\"top\">a09c68b1798542a6ae9277046de72dc3</th>\n      <th>2906b810c7d4411798c6938adc9daaa5</th>\n      <th>offer received</th>\n      <td>1</td>\n      <td>0</td>\n      <td>0</td>\n    </tr>\n    <tr>\n      <th>5a8bc65990b245e5a138643cd4eb9837</th>\n      <th>offer received</th>\n      <td>1</td>\n      <td>0</td>\n      <td>0</td>\n    </tr>\n    <tr>\n      <th>...</th>\n      <th>...</th>\n      <th>...</th>\n      <td>...</td>\n      <td>...</td>\n      <td>...</td>\n    </tr>\n    <tr>\n      <th>2ea50de315514ccaa5079db4c1ecbc0b</th>\n      <th>fafdcd668e3743c1bb461111dcafc2a4</th>\n      <th>offer received</th>\n      <td>5</td>\n      <td>0</td>\n      <td>0</td>\n    </tr>\n    <tr>\n      <th>eece6a9a7bdd4ea1b0f812f34fc619d6</th>\n      <th>5a8bc65990b245e5a138643cd4eb9837</th>\n      <th>offer received</th>\n      <td>5</td>\n      <td>0</td>\n      <td>0</td>\n    </tr>\n    <tr>\n      <th>6d2db3aad94648259e539920fc2cf2a6</th>\n      <th>f19421c1d4aa40978ebb69ca19b0e20d</th>\n      <th>offer received</th>\n      <td>5</td>\n      <td>0</td>\n      <td>0</td>\n    </tr>\n    <tr>\n      <th>43a50d7e5c8547a9aa1ec31291b9fc30</th>\n      <th>0b1e1539f2cc45b7b9fa7c272da2e1d7</th>\n      <th>offer received</th>\n      <td>5</td>\n      <td>0</td>\n      <td>0</td>\n    </tr>\n    <tr>\n      <th>23d67a23296a485781e69c109a10a1cf</th>\n      <th>5a8bc65990b245e5a138643cd4eb9837</th>\n      <th>offer received</th>\n      <td>5</td>\n      <td>0</td>\n      <td>0</td>\n    </tr>\n  </tbody>\n</table>\n<p>63288 rows × 3 columns</p>\n</div>"
     },
     "execution_count": 146,
     "metadata": {},
     "output_type": "execute_result"
    }
   ],
   "source": [
    "# Check if a customer can receive an order several times\n",
    "transcript[transcript['event'] == 'offer received'].groupby(by=['person', 'offer_id', 'event']).count().sort_values(by='time')"
   ],
   "metadata": {
    "collapsed": false,
    "ExecuteTime": {
     "start_time": "2023-05-05T17:16:54.990850Z",
     "end_time": "2023-05-05T17:16:55.087594Z"
    }
   }
  },
  {
   "cell_type": "code",
   "execution_count": 153,
   "outputs": [
    {
     "data": {
      "text/plain": "                                  person           event  time  \\\n8609    23d67a23296a485781e69c109a10a1cf  offer received     0   \n39104   23d67a23296a485781e69c109a10a1cf    offer viewed    84   \n60834   23d67a23296a485781e69c109a10a1cf  offer received   168   \n71242   23d67a23296a485781e69c109a10a1cf    offer viewed   174   \n119448  23d67a23296a485781e69c109a10a1cf  offer received   336   \n140903  23d67a23296a485781e69c109a10a1cf    offer viewed   372   \n209204  23d67a23296a485781e69c109a10a1cf  offer received   504   \n217166  23d67a23296a485781e69c109a10a1cf    offer viewed   504   \n252752  23d67a23296a485781e69c109a10a1cf  offer received   576   \n264523  23d67a23296a485781e69c109a10a1cf    offer viewed   582   \n\n                                offer_id  amount  offer_reward  \n8609    5a8bc65990b245e5a138643cd4eb9837     NaN           NaN  \n39104   5a8bc65990b245e5a138643cd4eb9837     NaN           NaN  \n60834   5a8bc65990b245e5a138643cd4eb9837     NaN           NaN  \n71242   5a8bc65990b245e5a138643cd4eb9837     NaN           NaN  \n119448  5a8bc65990b245e5a138643cd4eb9837     NaN           NaN  \n140903  5a8bc65990b245e5a138643cd4eb9837     NaN           NaN  \n209204  5a8bc65990b245e5a138643cd4eb9837     NaN           NaN  \n217166  5a8bc65990b245e5a138643cd4eb9837     NaN           NaN  \n252752  5a8bc65990b245e5a138643cd4eb9837     NaN           NaN  \n264523  5a8bc65990b245e5a138643cd4eb9837     NaN           NaN  ",
      "text/html": "<div>\n<style scoped>\n    .dataframe tbody tr th:only-of-type {\n        vertical-align: middle;\n    }\n\n    .dataframe tbody tr th {\n        vertical-align: top;\n    }\n\n    .dataframe thead th {\n        text-align: right;\n    }\n</style>\n<table border=\"1\" class=\"dataframe\">\n  <thead>\n    <tr style=\"text-align: right;\">\n      <th></th>\n      <th>person</th>\n      <th>event</th>\n      <th>time</th>\n      <th>offer_id</th>\n      <th>amount</th>\n      <th>offer_reward</th>\n    </tr>\n  </thead>\n  <tbody>\n    <tr>\n      <th>8609</th>\n      <td>23d67a23296a485781e69c109a10a1cf</td>\n      <td>offer received</td>\n      <td>0</td>\n      <td>5a8bc65990b245e5a138643cd4eb9837</td>\n      <td>NaN</td>\n      <td>NaN</td>\n    </tr>\n    <tr>\n      <th>39104</th>\n      <td>23d67a23296a485781e69c109a10a1cf</td>\n      <td>offer viewed</td>\n      <td>84</td>\n      <td>5a8bc65990b245e5a138643cd4eb9837</td>\n      <td>NaN</td>\n      <td>NaN</td>\n    </tr>\n    <tr>\n      <th>60834</th>\n      <td>23d67a23296a485781e69c109a10a1cf</td>\n      <td>offer received</td>\n      <td>168</td>\n      <td>5a8bc65990b245e5a138643cd4eb9837</td>\n      <td>NaN</td>\n      <td>NaN</td>\n    </tr>\n    <tr>\n      <th>71242</th>\n      <td>23d67a23296a485781e69c109a10a1cf</td>\n      <td>offer viewed</td>\n      <td>174</td>\n      <td>5a8bc65990b245e5a138643cd4eb9837</td>\n      <td>NaN</td>\n      <td>NaN</td>\n    </tr>\n    <tr>\n      <th>119448</th>\n      <td>23d67a23296a485781e69c109a10a1cf</td>\n      <td>offer received</td>\n      <td>336</td>\n      <td>5a8bc65990b245e5a138643cd4eb9837</td>\n      <td>NaN</td>\n      <td>NaN</td>\n    </tr>\n    <tr>\n      <th>140903</th>\n      <td>23d67a23296a485781e69c109a10a1cf</td>\n      <td>offer viewed</td>\n      <td>372</td>\n      <td>5a8bc65990b245e5a138643cd4eb9837</td>\n      <td>NaN</td>\n      <td>NaN</td>\n    </tr>\n    <tr>\n      <th>209204</th>\n      <td>23d67a23296a485781e69c109a10a1cf</td>\n      <td>offer received</td>\n      <td>504</td>\n      <td>5a8bc65990b245e5a138643cd4eb9837</td>\n      <td>NaN</td>\n      <td>NaN</td>\n    </tr>\n    <tr>\n      <th>217166</th>\n      <td>23d67a23296a485781e69c109a10a1cf</td>\n      <td>offer viewed</td>\n      <td>504</td>\n      <td>5a8bc65990b245e5a138643cd4eb9837</td>\n      <td>NaN</td>\n      <td>NaN</td>\n    </tr>\n    <tr>\n      <th>252752</th>\n      <td>23d67a23296a485781e69c109a10a1cf</td>\n      <td>offer received</td>\n      <td>576</td>\n      <td>5a8bc65990b245e5a138643cd4eb9837</td>\n      <td>NaN</td>\n      <td>NaN</td>\n    </tr>\n    <tr>\n      <th>264523</th>\n      <td>23d67a23296a485781e69c109a10a1cf</td>\n      <td>offer viewed</td>\n      <td>582</td>\n      <td>5a8bc65990b245e5a138643cd4eb9837</td>\n      <td>NaN</td>\n      <td>NaN</td>\n    </tr>\n  </tbody>\n</table>\n</div>"
     },
     "execution_count": 153,
     "metadata": {},
     "output_type": "execute_result"
    }
   ],
   "source": [
    "# There are some cases where customer received an offer several times\n",
    "transcript[(transcript['person'] == '23d67a23296a485781e69c109a10a1cf') & (transcript['offer_id'] == '5a8bc65990b245e5a138643cd4eb9837')]"
   ],
   "metadata": {
    "collapsed": false,
    "ExecuteTime": {
     "start_time": "2023-05-05T17:18:45.661307Z",
     "end_time": "2023-05-05T17:18:45.672292Z"
    }
   }
  },
  {
   "cell_type": "code",
   "execution_count": 19,
   "outputs": [
    {
     "name": "stdout",
     "output_type": "stream",
     "text": [
      "<class 'pandas.core.frame.DataFrame'>\n",
      "RangeIndex: 141419 entries, 0 to 141418\n",
      "Data columns (total 6 columns):\n",
      " #   Column        Non-Null Count   Dtype  \n",
      "---  ------        --------------   -----  \n",
      " 0   person        141419 non-null  object \n",
      " 1   offer_id      141419 non-null  object \n",
      " 2   event         141419 non-null  object \n",
      " 3   time          141419 non-null  int64  \n",
      " 4   amount        0 non-null       float64\n",
      " 5   offer_reward  28996 non-null   float64\n",
      "dtypes: float64(2), int64(1), object(3)\n",
      "memory usage: 6.5+ MB\n",
      "None\n"
     ]
    }
   ],
   "source": [
    "# Let's measure the times this happens => A high frequency 17% It is probably because it was received by different channels but there is no way of finding out...\n",
    "# We will just take the min of time and max of amount and offer_reward\n",
    "# Group by 'person', 'offer_id', and 'event', and aggregate 'time', 'amount', and 'reward'\n",
    "deduplicated_transcript = transcript.groupby(['person', 'offer_id', 'event']).agg({'time': 'min', 'amount': 'max', 'offer_reward': 'max'}).reset_index()\n",
    "\n",
    "# Examine the deduplicated Transcript dataset\n",
    "print(deduplicated_transcript.info())"
   ],
   "metadata": {
    "collapsed": false,
    "ExecuteTime": {
     "start_time": "2023-05-12T19:24:46.181648Z",
     "end_time": "2023-05-12T19:24:46.611324Z"
    }
   }
  },
  {
   "cell_type": "code",
   "execution_count": 41,
   "outputs": [
    {
     "data": {
      "text/plain": "    age became_member_on    income  membership_days  gender_F  gender_M  \\\n0  55.0       2017-07-15  112000.0              376         1         0   \n1  75.0       2017-05-09  100000.0              443         1         0   \n2  75.0       2017-05-09  100000.0              443         1         0   \n3  75.0       2017-05-09  100000.0              443         1         0   \n4  75.0       2017-05-09  100000.0              443         1         0   \n\n   gender_O age_group                            person  \\\n0         0     45-54  0610b486422d4921ae7d2bf64640c50b   \n1         0       65+  78afa995795e4d85b5d9ceeca43f5fef   \n2         0       65+  78afa995795e4d85b5d9ceeca43f5fef   \n3         0       65+  78afa995795e4d85b5d9ceeca43f5fef   \n4         0       65+  78afa995795e4d85b5d9ceeca43f5fef   \n\n                           offer_id offer_viewed offer_completed_after_view  \\\n0  9b98b8c7a33c4b65b9aebfe6a799e6d9        False                      False   \n1  5a8bc65990b245e5a138643cd4eb9837         True                      False   \n2  9b98b8c7a33c4b65b9aebfe6a799e6d9         True                       True   \n3  ae264e3637204a6fb9bb56bc8210ddfd         True                       True   \n4  f19421c1d4aa40978ebb69ca19b0e20d         True                      False   \n\n   reward  difficulty  duration     offer_type  email  mobile  social  web  \n0     5.0         5.0       7.0           bogo    1.0     1.0     0.0  1.0  \n1     0.0         0.0       3.0  informational    1.0     1.0     1.0  0.0  \n2     5.0         5.0       7.0           bogo    1.0     1.0     0.0  1.0  \n3    10.0        10.0       7.0           bogo    1.0     1.0     1.0  0.0  \n4     5.0         5.0       5.0           bogo    1.0     1.0     1.0  1.0  ",
      "text/html": "<div>\n<style scoped>\n    .dataframe tbody tr th:only-of-type {\n        vertical-align: middle;\n    }\n\n    .dataframe tbody tr th {\n        vertical-align: top;\n    }\n\n    .dataframe thead th {\n        text-align: right;\n    }\n</style>\n<table border=\"1\" class=\"dataframe\">\n  <thead>\n    <tr style=\"text-align: right;\">\n      <th></th>\n      <th>age</th>\n      <th>became_member_on</th>\n      <th>income</th>\n      <th>membership_days</th>\n      <th>gender_F</th>\n      <th>gender_M</th>\n      <th>gender_O</th>\n      <th>age_group</th>\n      <th>person</th>\n      <th>offer_id</th>\n      <th>offer_viewed</th>\n      <th>offer_completed_after_view</th>\n      <th>reward</th>\n      <th>difficulty</th>\n      <th>duration</th>\n      <th>offer_type</th>\n      <th>email</th>\n      <th>mobile</th>\n      <th>social</th>\n      <th>web</th>\n    </tr>\n  </thead>\n  <tbody>\n    <tr>\n      <th>0</th>\n      <td>55.0</td>\n      <td>2017-07-15</td>\n      <td>112000.0</td>\n      <td>376</td>\n      <td>1</td>\n      <td>0</td>\n      <td>0</td>\n      <td>45-54</td>\n      <td>0610b486422d4921ae7d2bf64640c50b</td>\n      <td>9b98b8c7a33c4b65b9aebfe6a799e6d9</td>\n      <td>False</td>\n      <td>False</td>\n      <td>5.0</td>\n      <td>5.0</td>\n      <td>7.0</td>\n      <td>bogo</td>\n      <td>1.0</td>\n      <td>1.0</td>\n      <td>0.0</td>\n      <td>1.0</td>\n    </tr>\n    <tr>\n      <th>1</th>\n      <td>75.0</td>\n      <td>2017-05-09</td>\n      <td>100000.0</td>\n      <td>443</td>\n      <td>1</td>\n      <td>0</td>\n      <td>0</td>\n      <td>65+</td>\n      <td>78afa995795e4d85b5d9ceeca43f5fef</td>\n      <td>5a8bc65990b245e5a138643cd4eb9837</td>\n      <td>True</td>\n      <td>False</td>\n      <td>0.0</td>\n      <td>0.0</td>\n      <td>3.0</td>\n      <td>informational</td>\n      <td>1.0</td>\n      <td>1.0</td>\n      <td>1.0</td>\n      <td>0.0</td>\n    </tr>\n    <tr>\n      <th>2</th>\n      <td>75.0</td>\n      <td>2017-05-09</td>\n      <td>100000.0</td>\n      <td>443</td>\n      <td>1</td>\n      <td>0</td>\n      <td>0</td>\n      <td>65+</td>\n      <td>78afa995795e4d85b5d9ceeca43f5fef</td>\n      <td>9b98b8c7a33c4b65b9aebfe6a799e6d9</td>\n      <td>True</td>\n      <td>True</td>\n      <td>5.0</td>\n      <td>5.0</td>\n      <td>7.0</td>\n      <td>bogo</td>\n      <td>1.0</td>\n      <td>1.0</td>\n      <td>0.0</td>\n      <td>1.0</td>\n    </tr>\n    <tr>\n      <th>3</th>\n      <td>75.0</td>\n      <td>2017-05-09</td>\n      <td>100000.0</td>\n      <td>443</td>\n      <td>1</td>\n      <td>0</td>\n      <td>0</td>\n      <td>65+</td>\n      <td>78afa995795e4d85b5d9ceeca43f5fef</td>\n      <td>ae264e3637204a6fb9bb56bc8210ddfd</td>\n      <td>True</td>\n      <td>True</td>\n      <td>10.0</td>\n      <td>10.0</td>\n      <td>7.0</td>\n      <td>bogo</td>\n      <td>1.0</td>\n      <td>1.0</td>\n      <td>1.0</td>\n      <td>0.0</td>\n    </tr>\n    <tr>\n      <th>4</th>\n      <td>75.0</td>\n      <td>2017-05-09</td>\n      <td>100000.0</td>\n      <td>443</td>\n      <td>1</td>\n      <td>0</td>\n      <td>0</td>\n      <td>65+</td>\n      <td>78afa995795e4d85b5d9ceeca43f5fef</td>\n      <td>f19421c1d4aa40978ebb69ca19b0e20d</td>\n      <td>True</td>\n      <td>False</td>\n      <td>5.0</td>\n      <td>5.0</td>\n      <td>5.0</td>\n      <td>bogo</td>\n      <td>1.0</td>\n      <td>1.0</td>\n      <td>1.0</td>\n      <td>1.0</td>\n    </tr>\n  </tbody>\n</table>\n</div>"
     },
     "metadata": {},
     "output_type": "display_data"
    }
   ],
   "source": [
    "# Create the merged_events dataset\n",
    "viewed_events = deduplicated_transcript[deduplicated_transcript['event'] == 'offer viewed'][['person', 'offer_id', 'time']]\n",
    "completed_events = deduplicated_transcript[deduplicated_transcript['event'] == 'offer completed'][['person', 'offer_id', 'time']]\n",
    "merged_events = viewed_events.merge(completed_events, on=['person', 'offer_id'], suffixes=('_view', '_comp'), how='outer')\n",
    "merged_events['offer_viewed'] = merged_events['time_view'].notnull()\n",
    "merged_events['offer_completed_after_view'] = (merged_events['time_comp'] > merged_events['time_view']) & (merged_events['time_comp'].notnull()) & (merged_events['time_view'].notnull())\n",
    "merged_events = merged_events.drop(columns=['time_view', 'time_comp'])\n",
    "\n",
    "# Merge profile left join with merged_events\n",
    "profile_merged_events = profile.merge(merged_events, left_on='id', right_on='person', how='left').drop(columns=['id'])\n",
    "\n",
    "# Merge the profile_merged_events with portfolio\n",
    "merged_data = profile_merged_events.merge(portfolio, left_on='offer_id', right_on='id', how='left').drop(columns=['id'])\n",
    "\n",
    "# Examine the final DataFrame\n",
    "display(merged_data.head())"
   ],
   "metadata": {
    "collapsed": false,
    "ExecuteTime": {
     "start_time": "2023-05-12T20:25:57.902218Z",
     "end_time": "2023-05-12T20:25:58.017502Z"
    }
   }
  },
  {
   "cell_type": "code",
   "execution_count": 45,
   "outputs": [
    {
     "data": {
      "text/plain": "True     0.905339\nFalse    0.094661\nName: offer_viewed, dtype: float64"
     },
     "metadata": {},
     "output_type": "display_data"
    },
    {
     "data": {
      "text/plain": "False    0.625298\nTrue     0.374702\nName: offer_completed_after_view, dtype: float64"
     },
     "metadata": {},
     "output_type": "display_data"
    }
   ],
   "source": [
    "display(merged_data['offer_viewed'].value_counts(normalize=True))\n",
    "display(merged_data['offer_completed_after_view'].value_counts(normalize=True))"
   ],
   "metadata": {
    "collapsed": false,
    "ExecuteTime": {
     "start_time": "2023-05-12T21:02:18.405684Z",
     "end_time": "2023-05-12T21:02:18.429588Z"
    }
   }
  },
  {
   "cell_type": "code",
   "execution_count": 46,
   "outputs": [],
   "source": [
    "merged_data.to_feather('data/processed_dataset.feather')"
   ],
   "metadata": {
    "collapsed": false,
    "ExecuteTime": {
     "start_time": "2023-05-12T21:02:47.776136Z",
     "end_time": "2023-05-12T21:02:48.319399Z"
    }
   }
  }
 ],
 "metadata": {
  "kernelspec": {
   "display_name": "Python 3",
   "language": "python",
   "name": "python3"
  },
  "language_info": {
   "codemirror_mode": {
    "name": "ipython",
    "version": 2
   },
   "file_extension": ".py",
   "mimetype": "text/x-python",
   "name": "python",
   "nbconvert_exporter": "python",
   "pygments_lexer": "ipython2",
   "version": "2.7.6"
  }
 },
 "nbformat": 4,
 "nbformat_minor": 0
}
